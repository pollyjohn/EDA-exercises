{
  "nbformat": 4,
  "nbformat_minor": 0,
  "metadata": {
    "colab": {
      "provenance": [],
      "authorship_tag": "ABX9TyP6/eZpq5OSRsoL90DQs/1N",
      "include_colab_link": true
    },
    "kernelspec": {
      "name": "python3",
      "display_name": "Python 3"
    },
    "language_info": {
      "name": "python"
    }
  },
  "cells": [
    {
      "cell_type": "markdown",
      "metadata": {
        "id": "view-in-github",
        "colab_type": "text"
      },
      "source": [
        "<a href=\"https://colab.research.google.com/github/pollyjohn/EDA-exercises/blob/master/life_expectancy.ipynb\" target=\"_parent\"><img src=\"https://colab.research.google.com/assets/colab-badge.svg\" alt=\"Open In Colab\"/></a>"
      ]
    },
    {
      "cell_type": "code",
      "execution_count": 1,
      "metadata": {
        "id": "ccGvIPuRjC0F"
      },
      "outputs": [],
      "source": [
        "import pandas as pd\n",
        "import re"
      ]
    },
    {
      "cell_type": "code",
      "source": [
        "df = pd.read_csv('/content/life-expectancy.csv')"
      ],
      "metadata": {
        "id": "sXrV3id6jMWQ"
      },
      "execution_count": 2,
      "outputs": []
    },
    {
      "cell_type": "code",
      "source": [
        "df"
      ],
      "metadata": {
        "colab": {
          "base_uri": "https://localhost:8080/",
          "height": 424
        },
        "id": "0KHTPRByj1KN",
        "outputId": "b1d91fd4-0e8a-49a0-b220-495c378ec8f1"
      },
      "execution_count": 3,
      "outputs": [
        {
          "output_type": "execute_result",
          "data": {
            "text/plain": [
              "            Entity Code  Year  Life expectancy (years)\n",
              "0      Afghanistan  AFG  1950                   27.638\n",
              "1      Afghanistan  AFG  1951                   27.878\n",
              "2      Afghanistan  AFG  1952                   28.361\n",
              "3      Afghanistan  AFG  1953                   28.852\n",
              "4      Afghanistan  AFG  1954                   29.350\n",
              "...            ...  ...   ...                      ...\n",
              "19023     Zimbabwe  ZWE  2015                   59.534\n",
              "19024     Zimbabwe  ZWE  2016                   60.294\n",
              "19025     Zimbabwe  ZWE  2017                   60.812\n",
              "19026     Zimbabwe  ZWE  2018                   61.195\n",
              "19027     Zimbabwe  ZWE  2019                   61.490\n",
              "\n",
              "[19028 rows x 4 columns]"
            ],
            "text/html": [
              "\n",
              "  <div id=\"df-c584e633-4547-4d30-878c-07d10c967740\">\n",
              "    <div class=\"colab-df-container\">\n",
              "      <div>\n",
              "<style scoped>\n",
              "    .dataframe tbody tr th:only-of-type {\n",
              "        vertical-align: middle;\n",
              "    }\n",
              "\n",
              "    .dataframe tbody tr th {\n",
              "        vertical-align: top;\n",
              "    }\n",
              "\n",
              "    .dataframe thead th {\n",
              "        text-align: right;\n",
              "    }\n",
              "</style>\n",
              "<table border=\"1\" class=\"dataframe\">\n",
              "  <thead>\n",
              "    <tr style=\"text-align: right;\">\n",
              "      <th></th>\n",
              "      <th>Entity</th>\n",
              "      <th>Code</th>\n",
              "      <th>Year</th>\n",
              "      <th>Life expectancy (years)</th>\n",
              "    </tr>\n",
              "  </thead>\n",
              "  <tbody>\n",
              "    <tr>\n",
              "      <th>0</th>\n",
              "      <td>Afghanistan</td>\n",
              "      <td>AFG</td>\n",
              "      <td>1950</td>\n",
              "      <td>27.638</td>\n",
              "    </tr>\n",
              "    <tr>\n",
              "      <th>1</th>\n",
              "      <td>Afghanistan</td>\n",
              "      <td>AFG</td>\n",
              "      <td>1951</td>\n",
              "      <td>27.878</td>\n",
              "    </tr>\n",
              "    <tr>\n",
              "      <th>2</th>\n",
              "      <td>Afghanistan</td>\n",
              "      <td>AFG</td>\n",
              "      <td>1952</td>\n",
              "      <td>28.361</td>\n",
              "    </tr>\n",
              "    <tr>\n",
              "      <th>3</th>\n",
              "      <td>Afghanistan</td>\n",
              "      <td>AFG</td>\n",
              "      <td>1953</td>\n",
              "      <td>28.852</td>\n",
              "    </tr>\n",
              "    <tr>\n",
              "      <th>4</th>\n",
              "      <td>Afghanistan</td>\n",
              "      <td>AFG</td>\n",
              "      <td>1954</td>\n",
              "      <td>29.350</td>\n",
              "    </tr>\n",
              "    <tr>\n",
              "      <th>...</th>\n",
              "      <td>...</td>\n",
              "      <td>...</td>\n",
              "      <td>...</td>\n",
              "      <td>...</td>\n",
              "    </tr>\n",
              "    <tr>\n",
              "      <th>19023</th>\n",
              "      <td>Zimbabwe</td>\n",
              "      <td>ZWE</td>\n",
              "      <td>2015</td>\n",
              "      <td>59.534</td>\n",
              "    </tr>\n",
              "    <tr>\n",
              "      <th>19024</th>\n",
              "      <td>Zimbabwe</td>\n",
              "      <td>ZWE</td>\n",
              "      <td>2016</td>\n",
              "      <td>60.294</td>\n",
              "    </tr>\n",
              "    <tr>\n",
              "      <th>19025</th>\n",
              "      <td>Zimbabwe</td>\n",
              "      <td>ZWE</td>\n",
              "      <td>2017</td>\n",
              "      <td>60.812</td>\n",
              "    </tr>\n",
              "    <tr>\n",
              "      <th>19026</th>\n",
              "      <td>Zimbabwe</td>\n",
              "      <td>ZWE</td>\n",
              "      <td>2018</td>\n",
              "      <td>61.195</td>\n",
              "    </tr>\n",
              "    <tr>\n",
              "      <th>19027</th>\n",
              "      <td>Zimbabwe</td>\n",
              "      <td>ZWE</td>\n",
              "      <td>2019</td>\n",
              "      <td>61.490</td>\n",
              "    </tr>\n",
              "  </tbody>\n",
              "</table>\n",
              "<p>19028 rows × 4 columns</p>\n",
              "</div>\n",
              "      <button class=\"colab-df-convert\" onclick=\"convertToInteractive('df-c584e633-4547-4d30-878c-07d10c967740')\"\n",
              "              title=\"Convert this dataframe to an interactive table.\"\n",
              "              style=\"display:none;\">\n",
              "        \n",
              "  <svg xmlns=\"http://www.w3.org/2000/svg\" height=\"24px\"viewBox=\"0 0 24 24\"\n",
              "       width=\"24px\">\n",
              "    <path d=\"M0 0h24v24H0V0z\" fill=\"none\"/>\n",
              "    <path d=\"M18.56 5.44l.94 2.06.94-2.06 2.06-.94-2.06-.94-.94-2.06-.94 2.06-2.06.94zm-11 1L8.5 8.5l.94-2.06 2.06-.94-2.06-.94L8.5 2.5l-.94 2.06-2.06.94zm10 10l.94 2.06.94-2.06 2.06-.94-2.06-.94-.94-2.06-.94 2.06-2.06.94z\"/><path d=\"M17.41 7.96l-1.37-1.37c-.4-.4-.92-.59-1.43-.59-.52 0-1.04.2-1.43.59L10.3 9.45l-7.72 7.72c-.78.78-.78 2.05 0 2.83L4 21.41c.39.39.9.59 1.41.59.51 0 1.02-.2 1.41-.59l7.78-7.78 2.81-2.81c.8-.78.8-2.07 0-2.86zM5.41 20L4 18.59l7.72-7.72 1.47 1.35L5.41 20z\"/>\n",
              "  </svg>\n",
              "      </button>\n",
              "      \n",
              "  <style>\n",
              "    .colab-df-container {\n",
              "      display:flex;\n",
              "      flex-wrap:wrap;\n",
              "      gap: 12px;\n",
              "    }\n",
              "\n",
              "    .colab-df-convert {\n",
              "      background-color: #E8F0FE;\n",
              "      border: none;\n",
              "      border-radius: 50%;\n",
              "      cursor: pointer;\n",
              "      display: none;\n",
              "      fill: #1967D2;\n",
              "      height: 32px;\n",
              "      padding: 0 0 0 0;\n",
              "      width: 32px;\n",
              "    }\n",
              "\n",
              "    .colab-df-convert:hover {\n",
              "      background-color: #E2EBFA;\n",
              "      box-shadow: 0px 1px 2px rgba(60, 64, 67, 0.3), 0px 1px 3px 1px rgba(60, 64, 67, 0.15);\n",
              "      fill: #174EA6;\n",
              "    }\n",
              "\n",
              "    [theme=dark] .colab-df-convert {\n",
              "      background-color: #3B4455;\n",
              "      fill: #D2E3FC;\n",
              "    }\n",
              "\n",
              "    [theme=dark] .colab-df-convert:hover {\n",
              "      background-color: #434B5C;\n",
              "      box-shadow: 0px 1px 3px 1px rgba(0, 0, 0, 0.15);\n",
              "      filter: drop-shadow(0px 1px 2px rgba(0, 0, 0, 0.3));\n",
              "      fill: #FFFFFF;\n",
              "    }\n",
              "  </style>\n",
              "\n",
              "      <script>\n",
              "        const buttonEl =\n",
              "          document.querySelector('#df-c584e633-4547-4d30-878c-07d10c967740 button.colab-df-convert');\n",
              "        buttonEl.style.display =\n",
              "          google.colab.kernel.accessAllowed ? 'block' : 'none';\n",
              "\n",
              "        async function convertToInteractive(key) {\n",
              "          const element = document.querySelector('#df-c584e633-4547-4d30-878c-07d10c967740');\n",
              "          const dataTable =\n",
              "            await google.colab.kernel.invokeFunction('convertToInteractive',\n",
              "                                                     [key], {});\n",
              "          if (!dataTable) return;\n",
              "\n",
              "          const docLinkHtml = 'Like what you see? Visit the ' +\n",
              "            '<a target=\"_blank\" href=https://colab.research.google.com/notebooks/data_table.ipynb>data table notebook</a>'\n",
              "            + ' to learn more about interactive tables.';\n",
              "          element.innerHTML = '';\n",
              "          dataTable['output_type'] = 'display_data';\n",
              "          await google.colab.output.renderOutput(dataTable, element);\n",
              "          const docLink = document.createElement('div');\n",
              "          docLink.innerHTML = docLinkHtml;\n",
              "          element.appendChild(docLink);\n",
              "        }\n",
              "      </script>\n",
              "    </div>\n",
              "  </div>\n",
              "  "
            ]
          },
          "metadata": {},
          "execution_count": 3
        }
      ]
    },
    {
      "cell_type": "code",
      "source": [
        "index = df[df['Life expectancy (years)'] == df['Life expectancy (years)'].max()].index"
      ],
      "metadata": {
        "id": "aBb7qiVqo5_B"
      },
      "execution_count": 4,
      "outputs": []
    },
    {
      "cell_type": "code",
      "source": [
        "# What is the year and country that has the lowest life expectancy in the dataset? \n",
        "lowest = df[df['Life expectancy (years)']==df['Life expectancy (years)'].min()]\n",
        "country1 = lowest.iloc[0,0]\n",
        "year1 = lowest.iloc[0,2]\n",
        "print(f\"the country with the lowest Life expectancy is {country1} in {year1}\")"
      ],
      "metadata": {
        "colab": {
          "base_uri": "https://localhost:8080/"
        },
        "id": "f5b7Ys2WkVdE",
        "outputId": "f2c7a74d-2e58-412a-b841-da2b358b3428"
      },
      "execution_count": 5,
      "outputs": [
        {
          "output_type": "stream",
          "name": "stdout",
          "text": [
            "the country with the lowest Life expectancy is Iceland in 1882\n"
          ]
        }
      ]
    },
    {
      "cell_type": "code",
      "source": [
        "#What is the year and country that has the highest life expectancy in the dataset?\n",
        "highest = df[df['Life expectancy (years)']==df['Life expectancy (years)'].max()]\n",
        "country2 = highest.iloc[0,0]\n",
        "year2 = highest.iloc[0,2]\n",
        "print(f\"the country with the highest Life expectancy is {country2} in {year2}\")"
      ],
      "metadata": {
        "colab": {
          "base_uri": "https://localhost:8080/"
        },
        "id": "UapzcSQ1l5r-",
        "outputId": "5bd69233-0460-4b39-90ff-013499d94bf6"
      },
      "execution_count": 6,
      "outputs": [
        {
          "output_type": "stream",
          "name": "stdout",
          "text": [
            "the country with the highest Life expectancy is Monaco in 2019\n"
          ]
        }
      ]
    },
    {
      "cell_type": "code",
      "source": [
        "#Allow the user to type in a year, then, find the average life expectancy for that year.\n",
        "#Then find the country with the minimum and the one with the maximum life expectancies for that year.\n",
        "u_year = int(input('type a year: '))\n",
        "\n"
      ],
      "metadata": {
        "id": "ObFd08HXrVRk",
        "colab": {
          "base_uri": "https://localhost:8080/"
        },
        "outputId": "92ebe0fb-0451-4ca3-912a-def3c5182283"
      },
      "execution_count": 7,
      "outputs": [
        {
          "name": "stdout",
          "output_type": "stream",
          "text": [
            "type a year: 2002\n"
          ]
        }
      ]
    },
    {
      "cell_type": "code",
      "source": [
        "df.loc[df['Year']==u_year]"
      ],
      "metadata": {
        "colab": {
          "base_uri": "https://localhost:8080/",
          "height": 424
        },
        "id": "B1ncDmlYKa3j",
        "outputId": "030f4556-fbc0-425d-8ba1-17dd8ed552cb"
      },
      "execution_count": 8,
      "outputs": [
        {
          "output_type": "execute_result",
          "data": {
            "text/plain": [
              "               Entity      Code  Year  Life expectancy (years)\n",
              "52        Afghanistan       AFG  2002                   56.784\n",
              "124            Africa       NaN  2002                   53.368\n",
              "194           Albania       ALB  2002                   74.579\n",
              "267           Algeria       DZA  2002                   71.605\n",
              "337    American Samoa       ASM  2002                   71.305\n",
              "...               ...       ...   ...                      ...\n",
              "18723  Western Sahara       ESH  2002                   63.646\n",
              "18800           World  OWID_WRL  2002                   66.885\n",
              "18870           Yemen       YEM  2002                   61.781\n",
              "18940          Zambia       ZMB  2002                   45.400\n",
              "19010        Zimbabwe       ZWE  2002                   43.523\n",
              "\n",
              "[243 rows x 4 columns]"
            ],
            "text/html": [
              "\n",
              "  <div id=\"df-7d32ed2f-d44c-495a-acb8-443f270ccd58\">\n",
              "    <div class=\"colab-df-container\">\n",
              "      <div>\n",
              "<style scoped>\n",
              "    .dataframe tbody tr th:only-of-type {\n",
              "        vertical-align: middle;\n",
              "    }\n",
              "\n",
              "    .dataframe tbody tr th {\n",
              "        vertical-align: top;\n",
              "    }\n",
              "\n",
              "    .dataframe thead th {\n",
              "        text-align: right;\n",
              "    }\n",
              "</style>\n",
              "<table border=\"1\" class=\"dataframe\">\n",
              "  <thead>\n",
              "    <tr style=\"text-align: right;\">\n",
              "      <th></th>\n",
              "      <th>Entity</th>\n",
              "      <th>Code</th>\n",
              "      <th>Year</th>\n",
              "      <th>Life expectancy (years)</th>\n",
              "    </tr>\n",
              "  </thead>\n",
              "  <tbody>\n",
              "    <tr>\n",
              "      <th>52</th>\n",
              "      <td>Afghanistan</td>\n",
              "      <td>AFG</td>\n",
              "      <td>2002</td>\n",
              "      <td>56.784</td>\n",
              "    </tr>\n",
              "    <tr>\n",
              "      <th>124</th>\n",
              "      <td>Africa</td>\n",
              "      <td>NaN</td>\n",
              "      <td>2002</td>\n",
              "      <td>53.368</td>\n",
              "    </tr>\n",
              "    <tr>\n",
              "      <th>194</th>\n",
              "      <td>Albania</td>\n",
              "      <td>ALB</td>\n",
              "      <td>2002</td>\n",
              "      <td>74.579</td>\n",
              "    </tr>\n",
              "    <tr>\n",
              "      <th>267</th>\n",
              "      <td>Algeria</td>\n",
              "      <td>DZA</td>\n",
              "      <td>2002</td>\n",
              "      <td>71.605</td>\n",
              "    </tr>\n",
              "    <tr>\n",
              "      <th>337</th>\n",
              "      <td>American Samoa</td>\n",
              "      <td>ASM</td>\n",
              "      <td>2002</td>\n",
              "      <td>71.305</td>\n",
              "    </tr>\n",
              "    <tr>\n",
              "      <th>...</th>\n",
              "      <td>...</td>\n",
              "      <td>...</td>\n",
              "      <td>...</td>\n",
              "      <td>...</td>\n",
              "    </tr>\n",
              "    <tr>\n",
              "      <th>18723</th>\n",
              "      <td>Western Sahara</td>\n",
              "      <td>ESH</td>\n",
              "      <td>2002</td>\n",
              "      <td>63.646</td>\n",
              "    </tr>\n",
              "    <tr>\n",
              "      <th>18800</th>\n",
              "      <td>World</td>\n",
              "      <td>OWID_WRL</td>\n",
              "      <td>2002</td>\n",
              "      <td>66.885</td>\n",
              "    </tr>\n",
              "    <tr>\n",
              "      <th>18870</th>\n",
              "      <td>Yemen</td>\n",
              "      <td>YEM</td>\n",
              "      <td>2002</td>\n",
              "      <td>61.781</td>\n",
              "    </tr>\n",
              "    <tr>\n",
              "      <th>18940</th>\n",
              "      <td>Zambia</td>\n",
              "      <td>ZMB</td>\n",
              "      <td>2002</td>\n",
              "      <td>45.400</td>\n",
              "    </tr>\n",
              "    <tr>\n",
              "      <th>19010</th>\n",
              "      <td>Zimbabwe</td>\n",
              "      <td>ZWE</td>\n",
              "      <td>2002</td>\n",
              "      <td>43.523</td>\n",
              "    </tr>\n",
              "  </tbody>\n",
              "</table>\n",
              "<p>243 rows × 4 columns</p>\n",
              "</div>\n",
              "      <button class=\"colab-df-convert\" onclick=\"convertToInteractive('df-7d32ed2f-d44c-495a-acb8-443f270ccd58')\"\n",
              "              title=\"Convert this dataframe to an interactive table.\"\n",
              "              style=\"display:none;\">\n",
              "        \n",
              "  <svg xmlns=\"http://www.w3.org/2000/svg\" height=\"24px\"viewBox=\"0 0 24 24\"\n",
              "       width=\"24px\">\n",
              "    <path d=\"M0 0h24v24H0V0z\" fill=\"none\"/>\n",
              "    <path d=\"M18.56 5.44l.94 2.06.94-2.06 2.06-.94-2.06-.94-.94-2.06-.94 2.06-2.06.94zm-11 1L8.5 8.5l.94-2.06 2.06-.94-2.06-.94L8.5 2.5l-.94 2.06-2.06.94zm10 10l.94 2.06.94-2.06 2.06-.94-2.06-.94-.94-2.06-.94 2.06-2.06.94z\"/><path d=\"M17.41 7.96l-1.37-1.37c-.4-.4-.92-.59-1.43-.59-.52 0-1.04.2-1.43.59L10.3 9.45l-7.72 7.72c-.78.78-.78 2.05 0 2.83L4 21.41c.39.39.9.59 1.41.59.51 0 1.02-.2 1.41-.59l7.78-7.78 2.81-2.81c.8-.78.8-2.07 0-2.86zM5.41 20L4 18.59l7.72-7.72 1.47 1.35L5.41 20z\"/>\n",
              "  </svg>\n",
              "      </button>\n",
              "      \n",
              "  <style>\n",
              "    .colab-df-container {\n",
              "      display:flex;\n",
              "      flex-wrap:wrap;\n",
              "      gap: 12px;\n",
              "    }\n",
              "\n",
              "    .colab-df-convert {\n",
              "      background-color: #E8F0FE;\n",
              "      border: none;\n",
              "      border-radius: 50%;\n",
              "      cursor: pointer;\n",
              "      display: none;\n",
              "      fill: #1967D2;\n",
              "      height: 32px;\n",
              "      padding: 0 0 0 0;\n",
              "      width: 32px;\n",
              "    }\n",
              "\n",
              "    .colab-df-convert:hover {\n",
              "      background-color: #E2EBFA;\n",
              "      box-shadow: 0px 1px 2px rgba(60, 64, 67, 0.3), 0px 1px 3px 1px rgba(60, 64, 67, 0.15);\n",
              "      fill: #174EA6;\n",
              "    }\n",
              "\n",
              "    [theme=dark] .colab-df-convert {\n",
              "      background-color: #3B4455;\n",
              "      fill: #D2E3FC;\n",
              "    }\n",
              "\n",
              "    [theme=dark] .colab-df-convert:hover {\n",
              "      background-color: #434B5C;\n",
              "      box-shadow: 0px 1px 3px 1px rgba(0, 0, 0, 0.15);\n",
              "      filter: drop-shadow(0px 1px 2px rgba(0, 0, 0, 0.3));\n",
              "      fill: #FFFFFF;\n",
              "    }\n",
              "  </style>\n",
              "\n",
              "      <script>\n",
              "        const buttonEl =\n",
              "          document.querySelector('#df-7d32ed2f-d44c-495a-acb8-443f270ccd58 button.colab-df-convert');\n",
              "        buttonEl.style.display =\n",
              "          google.colab.kernel.accessAllowed ? 'block' : 'none';\n",
              "\n",
              "        async function convertToInteractive(key) {\n",
              "          const element = document.querySelector('#df-7d32ed2f-d44c-495a-acb8-443f270ccd58');\n",
              "          const dataTable =\n",
              "            await google.colab.kernel.invokeFunction('convertToInteractive',\n",
              "                                                     [key], {});\n",
              "          if (!dataTable) return;\n",
              "\n",
              "          const docLinkHtml = 'Like what you see? Visit the ' +\n",
              "            '<a target=\"_blank\" href=https://colab.research.google.com/notebooks/data_table.ipynb>data table notebook</a>'\n",
              "            + ' to learn more about interactive tables.';\n",
              "          element.innerHTML = '';\n",
              "          dataTable['output_type'] = 'display_data';\n",
              "          await google.colab.output.renderOutput(dataTable, element);\n",
              "          const docLink = document.createElement('div');\n",
              "          docLink.innerHTML = docLinkHtml;\n",
              "          element.appendChild(docLink);\n",
              "        }\n",
              "      </script>\n",
              "    </div>\n",
              "  </div>\n",
              "  "
            ]
          },
          "metadata": {},
          "execution_count": 8
        }
      ]
    },
    {
      "cell_type": "code",
      "source": [
        "new_index = df[df['Year'] == u_year].index\n",
        "count = df.loc[new_index,'Life expectancy (years)'].count()\n",
        "average = df.loc[new_index,'Life expectancy (years)'].sum()/count\n",
        "print(f'the average life expectancy for the year {u_year} is {average}')\n",
        "max_ent_table = df.loc[df['Life expectancy (years)']== df.loc[new_index,'Life expectancy (years)'].max()]\n",
        "entity_expectancy_max = max_ent_table.iloc[0,0]\n",
        "min_ent_table = df.loc[df['Life expectancy (years)']== df.loc[new_index,'Life expectancy (years)'].min()]\n",
        "entity_expectancy_lower = min_ent_table.iloc[0,0]\n",
        "print(f'the entity with the highest life expectancy is {entity_expectancy_max} and the one with the lower is {entity_expectancy_lower}')"
      ],
      "metadata": {
        "colab": {
          "base_uri": "https://localhost:8080/"
        },
        "id": "WJ-fxhlkJplH",
        "outputId": "11c855ef-38b5-4705-eb3f-8ca526031b37"
      },
      "execution_count": 9,
      "outputs": [
        {
          "output_type": "stream",
          "name": "stdout",
          "text": [
            "the average life expectancy for the year 2002 is 68.72729795127572\n",
            "the entity with the highest life expectancy is Monaco and the one with the lower is Laos\n"
          ]
        }
      ]
    },
    {
      "cell_type": "code",
      "source": [
        "with open('life-expectancy.csv') as fl:\n",
        "  life_expectancy_l = []\n",
        "  country_l = []\n",
        "  year_l = []\n",
        "  for line in fl:\n",
        "    line = line.strip()\n",
        "    words = line.split(',')\n",
        "    life_expectancy_l.append(words[3])\n",
        "    country_l.append(words[0])\n",
        "    year_l.append(words[2])\n",
        "  life_expectancy_l.sort()\n",
        "  life_expectancy_l.pop(-1)\n",
        "  country_l.sort()\n",
        "  country_l.pop(-1)\n",
        "  year_l.sort()\n",
        "  year_l.pop(-1)\n",
        "\n",
        "\n",
        "  print(f\"the highest Life expectancy is {life_expectancy_l[-1]} \")\n",
        "  print(f\"the lowest Life expectancy is {life_expectancy_l[0]} \")\n"
      ],
      "metadata": {
        "colab": {
          "base_uri": "https://localhost:8080/"
        },
        "id": "x3StyP86oXJT",
        "outputId": "041ee843-0e08-4038-c475-721639d61223"
      },
      "execution_count": 10,
      "outputs": [
        {
          "output_type": "stream",
          "name": "stdout",
          "text": [
            "the highest Life expectancy is 86.751 \n",
            "the lowest Life expectancy is 17.76 \n"
          ]
        }
      ]
    },
    {
      "cell_type": "code",
      "source": [
        "index = df['Year'].index"
      ],
      "metadata": {
        "id": "vyV6lFu3p4u7"
      },
      "execution_count": 13,
      "outputs": []
    },
    {
      "cell_type": "code",
      "source": [
        "df['Life expectancy (years)'][1] + df['Life expectancy (years)'][2]"
      ],
      "metadata": {
        "colab": {
          "base_uri": "https://localhost:8080/"
        },
        "id": "cfD5QnIO1zqg",
        "outputId": "4aeba157-1878-480b-8df0-c1a77ea1c5ae"
      },
      "execution_count": 17,
      "outputs": [
        {
          "output_type": "execute_result",
          "data": {
            "text/plain": [
              "56.239000000000004"
            ]
          },
          "metadata": {},
          "execution_count": 17
        }
      ]
    },
    {
      "cell_type": "code",
      "source": [
        "df['Life expectancy (years)'][10]"
      ],
      "metadata": {
        "colab": {
          "base_uri": "https://localhost:8080/"
        },
        "id": "dV3YEY1o7L39",
        "outputId": "b1885512-81f8-40ea-9bb5-30b61f780d6e"
      },
      "execution_count": 24,
      "outputs": [
        {
          "output_type": "execute_result",
          "data": {
            "text/plain": [
              "32.446"
            ]
          },
          "metadata": {},
          "execution_count": 24
        }
      ]
    },
    {
      "cell_type": "code",
      "source": [
        "drop = []\n",
        "for i in range(19028):\n",
        "  if i < 19027:\n",
        "    value = (df['Life expectancy (years)'][i] - df['Life expectancy (years)'][i+1])*-1\n",
        "    f_value = df['Life expectancy (years)'][i]\n",
        "    s_value = df['Life expectancy (years)'][i+1]\n",
        "    drop.append([df['Year'][i],df['Entity'][i],f_value.round(2),s_value.round(2),df['Year'][i+1], df['Entity'][i+1], value.round(2)])\n",
        "  else:\n",
        "    break\n"
      ],
      "metadata": {
        "id": "yc9fruo93Kxo"
      },
      "execution_count": 107,
      "outputs": []
    },
    {
      "cell_type": "code",
      "source": [
        "drop.clear()"
      ],
      "metadata": {
        "id": "4Zn40PUF9OcR"
      },
      "execution_count": null,
      "outputs": []
    },
    {
      "cell_type": "code",
      "source": [
        "drop = pd.DataFrame(drop)"
      ],
      "metadata": {
        "id": "kOXbyW3W6nsd"
      },
      "execution_count": 108,
      "outputs": []
    },
    {
      "cell_type": "code",
      "source": [
        "drop.rename(columns={0:'Year1', 1:'Entity_1', 2:'1_value',3:'2_value',4:'Year2', 5:'Entity_2', 6:'drop'}, inplace=True)"
      ],
      "metadata": {
        "id": "FkPBdIvg7zJg"
      },
      "execution_count": 109,
      "outputs": []
    },
    {
      "cell_type": "code",
      "source": [
        "drop"
      ],
      "metadata": {
        "colab": {
          "base_uri": "https://localhost:8080/",
          "height": 520
        },
        "id": "XftTJZjR9od8",
        "outputId": "46d9f9b6-2d83-4ce2-e3bd-06c8eb3ea3b8"
      },
      "execution_count": 106,
      "outputs": [
        {
          "output_type": "execute_result",
          "data": {
            "text/plain": [
              "    Year1     Entity_1  1_value  2_value  Year2     Entity_2  drop\n",
              "0    1950  Afghanistan    27.64    27.88   1951  Afghanistan  0.24\n",
              "1    1951  Afghanistan    27.88    28.36   1952  Afghanistan  0.48\n",
              "2    1952  Afghanistan    28.36    28.85   1953  Afghanistan  0.49\n",
              "3    1953  Afghanistan    28.85    29.35   1954  Afghanistan  0.50\n",
              "4    1954  Afghanistan    29.35    29.85   1955  Afghanistan  0.50\n",
              "5    1955  Afghanistan    29.85    30.36   1956  Afghanistan  0.51\n",
              "6    1956  Afghanistan    30.36    30.88   1957  Afghanistan  0.52\n",
              "7    1957  Afghanistan    30.88    31.40   1958  Afghanistan  0.52\n",
              "8    1958  Afghanistan    31.40    31.92   1959  Afghanistan  0.52\n",
              "9    1959  Afghanistan    31.92    32.45   1960  Afghanistan  0.52\n",
              "10   1960  Afghanistan    32.45    32.96   1961  Afghanistan  0.52\n",
              "11   1961  Afghanistan    32.96    33.47   1962  Afghanistan  0.51\n",
              "12   1962  Afghanistan    33.47    33.97   1963  Afghanistan  0.50\n",
              "13   1963  Afghanistan    33.97    34.46   1964  Afghanistan  0.49\n",
              "14   1964  Afghanistan    34.46    34.95   1965  Afghanistan  0.48"
            ],
            "text/html": [
              "\n",
              "  <div id=\"df-d6d9a201-efd8-4660-afe8-68b75626cfd2\">\n",
              "    <div class=\"colab-df-container\">\n",
              "      <div>\n",
              "<style scoped>\n",
              "    .dataframe tbody tr th:only-of-type {\n",
              "        vertical-align: middle;\n",
              "    }\n",
              "\n",
              "    .dataframe tbody tr th {\n",
              "        vertical-align: top;\n",
              "    }\n",
              "\n",
              "    .dataframe thead th {\n",
              "        text-align: right;\n",
              "    }\n",
              "</style>\n",
              "<table border=\"1\" class=\"dataframe\">\n",
              "  <thead>\n",
              "    <tr style=\"text-align: right;\">\n",
              "      <th></th>\n",
              "      <th>Year1</th>\n",
              "      <th>Entity_1</th>\n",
              "      <th>1_value</th>\n",
              "      <th>2_value</th>\n",
              "      <th>Year2</th>\n",
              "      <th>Entity_2</th>\n",
              "      <th>drop</th>\n",
              "    </tr>\n",
              "  </thead>\n",
              "  <tbody>\n",
              "    <tr>\n",
              "      <th>0</th>\n",
              "      <td>1950</td>\n",
              "      <td>Afghanistan</td>\n",
              "      <td>27.64</td>\n",
              "      <td>27.88</td>\n",
              "      <td>1951</td>\n",
              "      <td>Afghanistan</td>\n",
              "      <td>0.24</td>\n",
              "    </tr>\n",
              "    <tr>\n",
              "      <th>1</th>\n",
              "      <td>1951</td>\n",
              "      <td>Afghanistan</td>\n",
              "      <td>27.88</td>\n",
              "      <td>28.36</td>\n",
              "      <td>1952</td>\n",
              "      <td>Afghanistan</td>\n",
              "      <td>0.48</td>\n",
              "    </tr>\n",
              "    <tr>\n",
              "      <th>2</th>\n",
              "      <td>1952</td>\n",
              "      <td>Afghanistan</td>\n",
              "      <td>28.36</td>\n",
              "      <td>28.85</td>\n",
              "      <td>1953</td>\n",
              "      <td>Afghanistan</td>\n",
              "      <td>0.49</td>\n",
              "    </tr>\n",
              "    <tr>\n",
              "      <th>3</th>\n",
              "      <td>1953</td>\n",
              "      <td>Afghanistan</td>\n",
              "      <td>28.85</td>\n",
              "      <td>29.35</td>\n",
              "      <td>1954</td>\n",
              "      <td>Afghanistan</td>\n",
              "      <td>0.50</td>\n",
              "    </tr>\n",
              "    <tr>\n",
              "      <th>4</th>\n",
              "      <td>1954</td>\n",
              "      <td>Afghanistan</td>\n",
              "      <td>29.35</td>\n",
              "      <td>29.85</td>\n",
              "      <td>1955</td>\n",
              "      <td>Afghanistan</td>\n",
              "      <td>0.50</td>\n",
              "    </tr>\n",
              "    <tr>\n",
              "      <th>5</th>\n",
              "      <td>1955</td>\n",
              "      <td>Afghanistan</td>\n",
              "      <td>29.85</td>\n",
              "      <td>30.36</td>\n",
              "      <td>1956</td>\n",
              "      <td>Afghanistan</td>\n",
              "      <td>0.51</td>\n",
              "    </tr>\n",
              "    <tr>\n",
              "      <th>6</th>\n",
              "      <td>1956</td>\n",
              "      <td>Afghanistan</td>\n",
              "      <td>30.36</td>\n",
              "      <td>30.88</td>\n",
              "      <td>1957</td>\n",
              "      <td>Afghanistan</td>\n",
              "      <td>0.52</td>\n",
              "    </tr>\n",
              "    <tr>\n",
              "      <th>7</th>\n",
              "      <td>1957</td>\n",
              "      <td>Afghanistan</td>\n",
              "      <td>30.88</td>\n",
              "      <td>31.40</td>\n",
              "      <td>1958</td>\n",
              "      <td>Afghanistan</td>\n",
              "      <td>0.52</td>\n",
              "    </tr>\n",
              "    <tr>\n",
              "      <th>8</th>\n",
              "      <td>1958</td>\n",
              "      <td>Afghanistan</td>\n",
              "      <td>31.40</td>\n",
              "      <td>31.92</td>\n",
              "      <td>1959</td>\n",
              "      <td>Afghanistan</td>\n",
              "      <td>0.52</td>\n",
              "    </tr>\n",
              "    <tr>\n",
              "      <th>9</th>\n",
              "      <td>1959</td>\n",
              "      <td>Afghanistan</td>\n",
              "      <td>31.92</td>\n",
              "      <td>32.45</td>\n",
              "      <td>1960</td>\n",
              "      <td>Afghanistan</td>\n",
              "      <td>0.52</td>\n",
              "    </tr>\n",
              "    <tr>\n",
              "      <th>10</th>\n",
              "      <td>1960</td>\n",
              "      <td>Afghanistan</td>\n",
              "      <td>32.45</td>\n",
              "      <td>32.96</td>\n",
              "      <td>1961</td>\n",
              "      <td>Afghanistan</td>\n",
              "      <td>0.52</td>\n",
              "    </tr>\n",
              "    <tr>\n",
              "      <th>11</th>\n",
              "      <td>1961</td>\n",
              "      <td>Afghanistan</td>\n",
              "      <td>32.96</td>\n",
              "      <td>33.47</td>\n",
              "      <td>1962</td>\n",
              "      <td>Afghanistan</td>\n",
              "      <td>0.51</td>\n",
              "    </tr>\n",
              "    <tr>\n",
              "      <th>12</th>\n",
              "      <td>1962</td>\n",
              "      <td>Afghanistan</td>\n",
              "      <td>33.47</td>\n",
              "      <td>33.97</td>\n",
              "      <td>1963</td>\n",
              "      <td>Afghanistan</td>\n",
              "      <td>0.50</td>\n",
              "    </tr>\n",
              "    <tr>\n",
              "      <th>13</th>\n",
              "      <td>1963</td>\n",
              "      <td>Afghanistan</td>\n",
              "      <td>33.97</td>\n",
              "      <td>34.46</td>\n",
              "      <td>1964</td>\n",
              "      <td>Afghanistan</td>\n",
              "      <td>0.49</td>\n",
              "    </tr>\n",
              "    <tr>\n",
              "      <th>14</th>\n",
              "      <td>1964</td>\n",
              "      <td>Afghanistan</td>\n",
              "      <td>34.46</td>\n",
              "      <td>34.95</td>\n",
              "      <td>1965</td>\n",
              "      <td>Afghanistan</td>\n",
              "      <td>0.48</td>\n",
              "    </tr>\n",
              "  </tbody>\n",
              "</table>\n",
              "</div>\n",
              "      <button class=\"colab-df-convert\" onclick=\"convertToInteractive('df-d6d9a201-efd8-4660-afe8-68b75626cfd2')\"\n",
              "              title=\"Convert this dataframe to an interactive table.\"\n",
              "              style=\"display:none;\">\n",
              "        \n",
              "  <svg xmlns=\"http://www.w3.org/2000/svg\" height=\"24px\"viewBox=\"0 0 24 24\"\n",
              "       width=\"24px\">\n",
              "    <path d=\"M0 0h24v24H0V0z\" fill=\"none\"/>\n",
              "    <path d=\"M18.56 5.44l.94 2.06.94-2.06 2.06-.94-2.06-.94-.94-2.06-.94 2.06-2.06.94zm-11 1L8.5 8.5l.94-2.06 2.06-.94-2.06-.94L8.5 2.5l-.94 2.06-2.06.94zm10 10l.94 2.06.94-2.06 2.06-.94-2.06-.94-.94-2.06-.94 2.06-2.06.94z\"/><path d=\"M17.41 7.96l-1.37-1.37c-.4-.4-.92-.59-1.43-.59-.52 0-1.04.2-1.43.59L10.3 9.45l-7.72 7.72c-.78.78-.78 2.05 0 2.83L4 21.41c.39.39.9.59 1.41.59.51 0 1.02-.2 1.41-.59l7.78-7.78 2.81-2.81c.8-.78.8-2.07 0-2.86zM5.41 20L4 18.59l7.72-7.72 1.47 1.35L5.41 20z\"/>\n",
              "  </svg>\n",
              "      </button>\n",
              "      \n",
              "  <style>\n",
              "    .colab-df-container {\n",
              "      display:flex;\n",
              "      flex-wrap:wrap;\n",
              "      gap: 12px;\n",
              "    }\n",
              "\n",
              "    .colab-df-convert {\n",
              "      background-color: #E8F0FE;\n",
              "      border: none;\n",
              "      border-radius: 50%;\n",
              "      cursor: pointer;\n",
              "      display: none;\n",
              "      fill: #1967D2;\n",
              "      height: 32px;\n",
              "      padding: 0 0 0 0;\n",
              "      width: 32px;\n",
              "    }\n",
              "\n",
              "    .colab-df-convert:hover {\n",
              "      background-color: #E2EBFA;\n",
              "      box-shadow: 0px 1px 2px rgba(60, 64, 67, 0.3), 0px 1px 3px 1px rgba(60, 64, 67, 0.15);\n",
              "      fill: #174EA6;\n",
              "    }\n",
              "\n",
              "    [theme=dark] .colab-df-convert {\n",
              "      background-color: #3B4455;\n",
              "      fill: #D2E3FC;\n",
              "    }\n",
              "\n",
              "    [theme=dark] .colab-df-convert:hover {\n",
              "      background-color: #434B5C;\n",
              "      box-shadow: 0px 1px 3px 1px rgba(0, 0, 0, 0.15);\n",
              "      filter: drop-shadow(0px 1px 2px rgba(0, 0, 0, 0.3));\n",
              "      fill: #FFFFFF;\n",
              "    }\n",
              "  </style>\n",
              "\n",
              "      <script>\n",
              "        const buttonEl =\n",
              "          document.querySelector('#df-d6d9a201-efd8-4660-afe8-68b75626cfd2 button.colab-df-convert');\n",
              "        buttonEl.style.display =\n",
              "          google.colab.kernel.accessAllowed ? 'block' : 'none';\n",
              "\n",
              "        async function convertToInteractive(key) {\n",
              "          const element = document.querySelector('#df-d6d9a201-efd8-4660-afe8-68b75626cfd2');\n",
              "          const dataTable =\n",
              "            await google.colab.kernel.invokeFunction('convertToInteractive',\n",
              "                                                     [key], {});\n",
              "          if (!dataTable) return;\n",
              "\n",
              "          const docLinkHtml = 'Like what you see? Visit the ' +\n",
              "            '<a target=\"_blank\" href=https://colab.research.google.com/notebooks/data_table.ipynb>data table notebook</a>'\n",
              "            + ' to learn more about interactive tables.';\n",
              "          element.innerHTML = '';\n",
              "          dataTable['output_type'] = 'display_data';\n",
              "          await google.colab.output.renderOutput(dataTable, element);\n",
              "          const docLink = document.createElement('div');\n",
              "          docLink.innerHTML = docLinkHtml;\n",
              "          element.appendChild(docLink);\n",
              "        }\n",
              "      </script>\n",
              "    </div>\n",
              "  </div>\n",
              "  "
            ]
          },
          "metadata": {},
          "execution_count": 106
        }
      ]
    },
    {
      "cell_type": "code",
      "source": [
        "maior = drop['drop'] == drop['drop'].max()\n",
        "biggestdrop = drop.loc[maior,['Year1','Entity_1','1_value','2_value','Year2','Entity_2','drop']]\n"
      ],
      "metadata": {
        "id": "gQdx8y94-Ovg"
      },
      "execution_count": 111,
      "outputs": []
    },
    {
      "cell_type": "code",
      "source": [
        "biggestdrop"
      ],
      "metadata": {
        "colab": {
          "base_uri": "https://localhost:8080/",
          "height": 81
        },
        "id": "SJPAWLzC-9DC",
        "outputId": "10913e98-3abb-4959-a53a-fdc64f0f5725"
      },
      "execution_count": 112,
      "outputs": [
        {
          "output_type": "execute_result",
          "data": {
            "text/plain": [
              "      Year1 Entity_1  1_value  2_value  Year2 Entity_2   drop\n",
              "8869   1908   Kuwait     26.0    52.01   1950   Kuwait  26.01"
            ],
            "text/html": [
              "\n",
              "  <div id=\"df-573f5064-7c87-4911-ae4f-59aadf237d78\">\n",
              "    <div class=\"colab-df-container\">\n",
              "      <div>\n",
              "<style scoped>\n",
              "    .dataframe tbody tr th:only-of-type {\n",
              "        vertical-align: middle;\n",
              "    }\n",
              "\n",
              "    .dataframe tbody tr th {\n",
              "        vertical-align: top;\n",
              "    }\n",
              "\n",
              "    .dataframe thead th {\n",
              "        text-align: right;\n",
              "    }\n",
              "</style>\n",
              "<table border=\"1\" class=\"dataframe\">\n",
              "  <thead>\n",
              "    <tr style=\"text-align: right;\">\n",
              "      <th></th>\n",
              "      <th>Year1</th>\n",
              "      <th>Entity_1</th>\n",
              "      <th>1_value</th>\n",
              "      <th>2_value</th>\n",
              "      <th>Year2</th>\n",
              "      <th>Entity_2</th>\n",
              "      <th>drop</th>\n",
              "    </tr>\n",
              "  </thead>\n",
              "  <tbody>\n",
              "    <tr>\n",
              "      <th>8869</th>\n",
              "      <td>1908</td>\n",
              "      <td>Kuwait</td>\n",
              "      <td>26.0</td>\n",
              "      <td>52.01</td>\n",
              "      <td>1950</td>\n",
              "      <td>Kuwait</td>\n",
              "      <td>26.01</td>\n",
              "    </tr>\n",
              "  </tbody>\n",
              "</table>\n",
              "</div>\n",
              "      <button class=\"colab-df-convert\" onclick=\"convertToInteractive('df-573f5064-7c87-4911-ae4f-59aadf237d78')\"\n",
              "              title=\"Convert this dataframe to an interactive table.\"\n",
              "              style=\"display:none;\">\n",
              "        \n",
              "  <svg xmlns=\"http://www.w3.org/2000/svg\" height=\"24px\"viewBox=\"0 0 24 24\"\n",
              "       width=\"24px\">\n",
              "    <path d=\"M0 0h24v24H0V0z\" fill=\"none\"/>\n",
              "    <path d=\"M18.56 5.44l.94 2.06.94-2.06 2.06-.94-2.06-.94-.94-2.06-.94 2.06-2.06.94zm-11 1L8.5 8.5l.94-2.06 2.06-.94-2.06-.94L8.5 2.5l-.94 2.06-2.06.94zm10 10l.94 2.06.94-2.06 2.06-.94-2.06-.94-.94-2.06-.94 2.06-2.06.94z\"/><path d=\"M17.41 7.96l-1.37-1.37c-.4-.4-.92-.59-1.43-.59-.52 0-1.04.2-1.43.59L10.3 9.45l-7.72 7.72c-.78.78-.78 2.05 0 2.83L4 21.41c.39.39.9.59 1.41.59.51 0 1.02-.2 1.41-.59l7.78-7.78 2.81-2.81c.8-.78.8-2.07 0-2.86zM5.41 20L4 18.59l7.72-7.72 1.47 1.35L5.41 20z\"/>\n",
              "  </svg>\n",
              "      </button>\n",
              "      \n",
              "  <style>\n",
              "    .colab-df-container {\n",
              "      display:flex;\n",
              "      flex-wrap:wrap;\n",
              "      gap: 12px;\n",
              "    }\n",
              "\n",
              "    .colab-df-convert {\n",
              "      background-color: #E8F0FE;\n",
              "      border: none;\n",
              "      border-radius: 50%;\n",
              "      cursor: pointer;\n",
              "      display: none;\n",
              "      fill: #1967D2;\n",
              "      height: 32px;\n",
              "      padding: 0 0 0 0;\n",
              "      width: 32px;\n",
              "    }\n",
              "\n",
              "    .colab-df-convert:hover {\n",
              "      background-color: #E2EBFA;\n",
              "      box-shadow: 0px 1px 2px rgba(60, 64, 67, 0.3), 0px 1px 3px 1px rgba(60, 64, 67, 0.15);\n",
              "      fill: #174EA6;\n",
              "    }\n",
              "\n",
              "    [theme=dark] .colab-df-convert {\n",
              "      background-color: #3B4455;\n",
              "      fill: #D2E3FC;\n",
              "    }\n",
              "\n",
              "    [theme=dark] .colab-df-convert:hover {\n",
              "      background-color: #434B5C;\n",
              "      box-shadow: 0px 1px 3px 1px rgba(0, 0, 0, 0.15);\n",
              "      filter: drop-shadow(0px 1px 2px rgba(0, 0, 0, 0.3));\n",
              "      fill: #FFFFFF;\n",
              "    }\n",
              "  </style>\n",
              "\n",
              "      <script>\n",
              "        const buttonEl =\n",
              "          document.querySelector('#df-573f5064-7c87-4911-ae4f-59aadf237d78 button.colab-df-convert');\n",
              "        buttonEl.style.display =\n",
              "          google.colab.kernel.accessAllowed ? 'block' : 'none';\n",
              "\n",
              "        async function convertToInteractive(key) {\n",
              "          const element = document.querySelector('#df-573f5064-7c87-4911-ae4f-59aadf237d78');\n",
              "          const dataTable =\n",
              "            await google.colab.kernel.invokeFunction('convertToInteractive',\n",
              "                                                     [key], {});\n",
              "          if (!dataTable) return;\n",
              "\n",
              "          const docLinkHtml = 'Like what you see? Visit the ' +\n",
              "            '<a target=\"_blank\" href=https://colab.research.google.com/notebooks/data_table.ipynb>data table notebook</a>'\n",
              "            + ' to learn more about interactive tables.';\n",
              "          element.innerHTML = '';\n",
              "          dataTable['output_type'] = 'display_data';\n",
              "          await google.colab.output.renderOutput(dataTable, element);\n",
              "          const docLink = document.createElement('div');\n",
              "          docLink.innerHTML = docLinkHtml;\n",
              "          element.appendChild(docLink);\n",
              "        }\n",
              "      </script>\n",
              "    </div>\n",
              "  </div>\n",
              "  "
            ]
          },
          "metadata": {},
          "execution_count": 112
        }
      ]
    },
    {
      "cell_type": "code",
      "source": [
        "drop.loc[index,['Entity','Year','drop']]"
      ],
      "metadata": {
        "colab": {
          "base_uri": "https://localhost:8080/"
        },
        "id": "ii5Cz3I7DBvU",
        "outputId": "f6ccdf43-292d-4e35-88f3-cc427b610d1d"
      },
      "execution_count": 67,
      "outputs": [
        {
          "output_type": "execute_result",
          "data": {
            "text/plain": [
              "Entity    [Kuwait]\n",
              "Year          1908\n",
              "drop       -42.369\n",
              "Name: 8868, dtype: object"
            ]
          },
          "metadata": {},
          "execution_count": 67
        }
      ]
    },
    {
      "cell_type": "code",
      "source": [
        "#Allow the user to type in a country, then show the minimum, maximum, and average life expectancy for that country.\n",
        "country = input('whats the country: ')\n",
        "filt_country = df['Entity'] == country\n",
        "max = df.loc[filt_country,['Entity','Life expectancy (years)']].max()\n",
        "min = df.loc[filt_country,['Entity','Life expectancy (years)']].min()\n",
        "average = (df.loc[filt_country,['Life expectancy (years)']].sum()/len(df.loc[filt_country,['Life expectancy (years)']])).round(2)"
      ],
      "metadata": {
        "colab": {
          "base_uri": "https://localhost:8080/"
        },
        "id": "QVXO7JyZDGai",
        "outputId": "28d99d59-8d0e-407d-edc3-f6e79844cf9a"
      },
      "execution_count": 129,
      "outputs": [
        {
          "name": "stdout",
          "output_type": "stream",
          "text": [
            "whats the country: \n"
          ]
        }
      ]
    },
    {
      "cell_type": "code",
      "source": [
        "print(f'the higher ever recorded life expectancy for {country} is {max}, the lower is {min} and the average is {average}')\n"
      ],
      "metadata": {
        "colab": {
          "base_uri": "https://localhost:8080/"
        },
        "id": "d_u9LtsAFHqJ",
        "outputId": "efdea397-4a87-4d45-f18d-eaa904869582"
      },
      "execution_count": 130,
      "outputs": [
        {
          "output_type": "stream",
          "name": "stdout",
          "text": [
            "the higher ever recorded life expectancy for  is Entity                     NaN\n",
            "Life expectancy (years)    NaN\n",
            "dtype: object, the lower is Entity                     NaN\n",
            "Life expectancy (years)    NaN\n",
            "dtype: object and the average is Life expectancy (years)   NaN\n",
            "dtype: float64\n"
          ]
        }
      ]
    },
    {
      "cell_type": "code",
      "source": [],
      "metadata": {
        "id": "NMyMi4FLmCG-"
      },
      "execution_count": null,
      "outputs": []
    }
  ]
}