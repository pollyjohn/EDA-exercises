{
  "nbformat": 4,
  "nbformat_minor": 0,
  "metadata": {
    "colab": {
      "provenance": [],
      "include_colab_link": true
    },
    "kernelspec": {
      "name": "python3",
      "display_name": "Python 3"
    },
    "language_info": {
      "name": "python"
    }
  },
  "cells": [
    {
      "cell_type": "markdown",
      "metadata": {
        "id": "view-in-github",
        "colab_type": "text"
      },
      "source": [
        "<a href=\"https://colab.research.google.com/github/pollyjohn/EDA-exercises/blob/master/CAGED_Final_Para/MongoDB.ipynb\" target=\"_parent\"><img src=\"https://colab.research.google.com/assets/colab-badge.svg\" alt=\"Open In Colab\"/></a>"
      ]
    },
    {
      "cell_type": "code",
      "source": [
        "from google.colab import auth\n",
        "auth.authenticate_user()"
      ],
      "metadata": {
        "id": "Y5sfhXunkfrR"
      },
      "execution_count": 4,
      "outputs": []
    },
    {
      "cell_type": "code",
      "source": [
        "pip install gcsfs"
      ],
      "metadata": {
        "id": "VMZd08aNkoxT",
        "colab": {
          "base_uri": "https://localhost:8080/"
        },
        "outputId": "37a41886-3e06-4584-f031-73312441230e"
      },
      "execution_count": 5,
      "outputs": [
        {
          "output_type": "stream",
          "name": "stdout",
          "text": [
            "Looking in indexes: https://pypi.org/simple, https://us-python.pkg.dev/colab-wheels/public/simple/\n",
            "Requirement already satisfied: gcsfs in /usr/local/lib/python3.8/dist-packages (2023.1.0)\n",
            "Requirement already satisfied: google-cloud-storage in /usr/local/lib/python3.8/dist-packages (from gcsfs) (2.7.0)\n",
            "Requirement already satisfied: aiohttp!=4.0.0a0,!=4.0.0a1 in /usr/local/lib/python3.8/dist-packages (from gcsfs) (3.8.3)\n",
            "Requirement already satisfied: fsspec==2023.1.0 in /usr/local/lib/python3.8/dist-packages (from gcsfs) (2023.1.0)\n",
            "Requirement already satisfied: google-auth>=1.2 in /usr/local/lib/python3.8/dist-packages (from gcsfs) (2.16.0)\n",
            "Requirement already satisfied: decorator>4.1.2 in /usr/local/lib/python3.8/dist-packages (from gcsfs) (4.4.2)\n",
            "Requirement already satisfied: google-auth-oauthlib in /usr/local/lib/python3.8/dist-packages (from gcsfs) (0.4.6)\n",
            "Requirement already satisfied: requests in /usr/local/lib/python3.8/dist-packages (from gcsfs) (2.25.1)\n",
            "Requirement already satisfied: multidict<7.0,>=4.5 in /usr/local/lib/python3.8/dist-packages (from aiohttp!=4.0.0a0,!=4.0.0a1->gcsfs) (6.0.4)\n",
            "Requirement already satisfied: charset-normalizer<3.0,>=2.0 in /usr/local/lib/python3.8/dist-packages (from aiohttp!=4.0.0a0,!=4.0.0a1->gcsfs) (2.1.1)\n",
            "Requirement already satisfied: aiosignal>=1.1.2 in /usr/local/lib/python3.8/dist-packages (from aiohttp!=4.0.0a0,!=4.0.0a1->gcsfs) (1.3.1)\n",
            "Requirement already satisfied: yarl<2.0,>=1.0 in /usr/local/lib/python3.8/dist-packages (from aiohttp!=4.0.0a0,!=4.0.0a1->gcsfs) (1.8.2)\n",
            "Requirement already satisfied: frozenlist>=1.1.1 in /usr/local/lib/python3.8/dist-packages (from aiohttp!=4.0.0a0,!=4.0.0a1->gcsfs) (1.3.3)\n",
            "Requirement already satisfied: async-timeout<5.0,>=4.0.0a3 in /usr/local/lib/python3.8/dist-packages (from aiohttp!=4.0.0a0,!=4.0.0a1->gcsfs) (4.0.2)\n",
            "Requirement already satisfied: attrs>=17.3.0 in /usr/local/lib/python3.8/dist-packages (from aiohttp!=4.0.0a0,!=4.0.0a1->gcsfs) (22.2.0)\n",
            "Requirement already satisfied: rsa<5,>=3.1.4 in /usr/local/lib/python3.8/dist-packages (from google-auth>=1.2->gcsfs) (4.9)\n",
            "Requirement already satisfied: six>=1.9.0 in /usr/local/lib/python3.8/dist-packages (from google-auth>=1.2->gcsfs) (1.15.0)\n",
            "Requirement already satisfied: cachetools<6.0,>=2.0.0 in /usr/local/lib/python3.8/dist-packages (from google-auth>=1.2->gcsfs) (5.3.0)\n",
            "Requirement already satisfied: pyasn1-modules>=0.2.1 in /usr/local/lib/python3.8/dist-packages (from google-auth>=1.2->gcsfs) (0.2.8)\n",
            "Requirement already satisfied: requests-oauthlib>=0.7.0 in /usr/local/lib/python3.8/dist-packages (from google-auth-oauthlib->gcsfs) (1.3.1)\n",
            "Requirement already satisfied: google-api-core!=2.0.*,!=2.1.*,!=2.2.*,!=2.3.0,<3.0.0dev,>=1.31.5 in /usr/local/lib/python3.8/dist-packages (from google-cloud-storage->gcsfs) (2.11.0)\n",
            "Requirement already satisfied: google-resumable-media>=2.3.2 in /usr/local/lib/python3.8/dist-packages (from google-cloud-storage->gcsfs) (2.4.1)\n",
            "Requirement already satisfied: google-cloud-core<3.0dev,>=2.3.0 in /usr/local/lib/python3.8/dist-packages (from google-cloud-storage->gcsfs) (2.3.2)\n",
            "Requirement already satisfied: urllib3<1.27,>=1.21.1 in /usr/local/lib/python3.8/dist-packages (from requests->gcsfs) (1.24.3)\n",
            "Requirement already satisfied: idna<3,>=2.5 in /usr/local/lib/python3.8/dist-packages (from requests->gcsfs) (2.10)\n",
            "Requirement already satisfied: chardet<5,>=3.0.2 in /usr/local/lib/python3.8/dist-packages (from requests->gcsfs) (4.0.0)\n",
            "Requirement already satisfied: certifi>=2017.4.17 in /usr/local/lib/python3.8/dist-packages (from requests->gcsfs) (2022.12.7)\n",
            "Requirement already satisfied: googleapis-common-protos<2.0dev,>=1.56.2 in /usr/local/lib/python3.8/dist-packages (from google-api-core!=2.0.*,!=2.1.*,!=2.2.*,!=2.3.0,<3.0.0dev,>=1.31.5->google-cloud-storage->gcsfs) (1.58.0)\n",
            "Requirement already satisfied: protobuf!=3.20.0,!=3.20.1,!=4.21.0,!=4.21.1,!=4.21.2,!=4.21.3,!=4.21.4,!=4.21.5,<5.0.0dev,>=3.19.5 in /usr/local/lib/python3.8/dist-packages (from google-api-core!=2.0.*,!=2.1.*,!=2.2.*,!=2.3.0,<3.0.0dev,>=1.31.5->google-cloud-storage->gcsfs) (3.19.6)\n",
            "Requirement already satisfied: google-crc32c<2.0dev,>=1.0 in /usr/local/lib/python3.8/dist-packages (from google-resumable-media>=2.3.2->google-cloud-storage->gcsfs) (1.5.0)\n",
            "Requirement already satisfied: pyasn1<0.5.0,>=0.4.6 in /usr/local/lib/python3.8/dist-packages (from pyasn1-modules>=0.2.1->google-auth>=1.2->gcsfs) (0.4.8)\n",
            "Requirement already satisfied: oauthlib>=3.0.0 in /usr/local/lib/python3.8/dist-packages (from requests-oauthlib>=0.7.0->google-auth-oauthlib->gcsfs) (3.2.2)\n"
          ]
        }
      ]
    },
    {
      "cell_type": "code",
      "source": [
        "pip install pymongo"
      ],
      "metadata": {
        "id": "f-Zn0rkwkpss",
        "colab": {
          "base_uri": "https://localhost:8080/"
        },
        "outputId": "064ea64a-8299-4fd1-ffd6-604742358ac4"
      },
      "execution_count": 6,
      "outputs": [
        {
          "output_type": "stream",
          "name": "stdout",
          "text": [
            "Looking in indexes: https://pypi.org/simple, https://us-python.pkg.dev/colab-wheels/public/simple/\n",
            "Requirement already satisfied: pymongo in /usr/local/lib/python3.8/dist-packages (4.3.3)\n",
            "Requirement already satisfied: dnspython<3.0.0,>=1.16.0 in /usr/local/lib/python3.8/dist-packages (from pymongo) (2.3.0)\n"
          ]
        }
      ]
    },
    {
      "cell_type": "code",
      "source": [
        "import pandas as pd\n",
        "import gcsfs"
      ],
      "metadata": {
        "id": "EoHu6anAk3bz"
      },
      "execution_count": 7,
      "outputs": []
    },
    {
      "cell_type": "code",
      "source": [
        "from pymongo import MongoClient\n",
        "\n",
        "uri = \"mongodb+srv://fsemesterproject.qyenf8v.mongodb.net/myFirstDatabase?authSource=%24external&authMechanism=MONGODB-X509\"\n",
        "client = MongoClient(uri,\n",
        "                     tls=True,\n",
        "                     tlsCertificateKeyFile='/content/X509-cert-4666834592712920998.pem')"
      ],
      "metadata": {
        "id": "lOFwZxY1kzKz"
      },
      "execution_count": 26,
      "outputs": []
    },
    {
      "cell_type": "code",
      "execution_count": 2,
      "metadata": {
        "id": "aVsRIV1o5nIF"
      },
      "outputs": [],
      "source": [
        "listaDepaths = ['/content/CAGEDMOV202001.txt','/content/CAGEDMOV202002.txt','/content/CAGEDMOV202003.txt']\n",
        "listaDeLinks = [\n",
        "'gs://caged_nacional/cagedtratadofinal/preparandoparamongo/part-00004-6d2f5362-f6c5-49d6-9982-ee59459d43cc-c000.csv',\n",
        "'gs://caged_nacional/cagedtratadofinal/preparandoparamongo/part-00005-6d2f5362-f6c5-49d6-9982-ee59459d43cc-c000.csv',\n",
        "'gs://caged_nacional/cagedtratadofinal/preparandoparamongo/part-00006-6d2f5362-f6c5-49d6-9982-ee59459d43cc-c000.csv',\n",
        "'gs://caged_nacional/cagedtratadofinal/preparandoparamongo/part-00007-6d2f5362-f6c5-49d6-9982-ee59459d43cc-c000.csv',\n",
        "'gs://caged_nacional/cagedtratadofinal/preparandoparamongo/part-00008-6d2f5362-f6c5-49d6-9982-ee59459d43cc-c000.csv',\n",
        "'gs://caged_nacional/cagedtratadofinal/preparandoparamongo/part-00009-6d2f5362-f6c5-49d6-9982-ee59459d43cc-c000.csv',\n",
        "'gs://caged_nacional/cagedtratadofinal/preparandoparamongo/part-000010-6d2f5362-f6c5-49d6-9982-ee59459d43cc-c000.csv',\n",
        "'gs://caged_nacional/cagedtratadofinal/preparandoparamongo/part-000011-6d2f5362-f6c5-49d6-9982-ee59459d43cc-c000.csv',\n",
        "'gs://caged_nacional/cagedtratadofinal/preparandoparamongo/part-000012-6d2f5362-f6c5-49d6-9982-ee59459d43cc-c000.csv',\n",
        "'gs://caged_nacional/cagedtratadofinal/preparandoparamongo/part-000013-6d2f5362-f6c5-49d6-9982-ee59459d43cc-c000.csv',\n",
        "'gs://caged_nacional/cagedtratadofinal/preparandoparamongo/part-000014-6d2f5362-f6c5-49d6-9982-ee59459d43cc-c000.csv',\n",
        "'gs://caged_nacional/cagedtratadofinal/preparandoparamongo/part-000015-6d2f5362-f6c5-49d6-9982-ee59459d43cc-c000.csv',\n",
        "'gs://caged_nacional/cagedtratadofinal/preparandoparamongo/part-000016-6d2f5362-f6c5-49d6-9982-ee59459d43cc-c000.csv',\n",
        "'gs://caged_nacional/cagedtratadofinal/preparandoparamongo/part-000017-6d2f5362-f6c5-49d6-9982-ee59459d43cc-c000.csv',\n",
        "'gs://caged_nacional/cagedtratadofinal/preparandoparamongo/part-000018-6d2f5362-f6c5-49d6-9982-ee59459d43cc-c000.csv',\n",
        "'gs://caged_nacional/cagedtratadofinal/preparandoparamongo/part-000019-6d2f5362-f6c5-49d6-9982-ee59459d43cc-c000.csv',\n",
        "'gs://caged_nacional/cagedtratadofinal/preparandoparamongo/part-000020-6d2f5362-f6c5-49d6-9982-ee59459d43cc-c000.csv',\n",
        "'gs://caged_nacional/cagedtratadofinal/preparandoparamongo/part-000021-6d2f5362-f6c5-49d6-9982-ee59459d43cc-c000.csv',\n",
        "'gs://caged_nacional/cagedtratadofinal/preparandoparamongo/part-000022-6d2f5362-f6c5-49d6-9982-ee59459d43cc-c000.csv',\n",
        "'gs://caged_nacional/cagedtratadofinal/preparandoparamongo/part-000023-6d2f5362-f6c5-49d6-9982-ee59459d43cc-c000.csv',\n",
        "'gs://caged_nacional/cagedtratadofinal/preparandoparamongo/part-000024-6d2f5362-f6c5-49d6-9982-ee59459d43cc-c000.csv',\n",
        "'gs://caged_nacional/cagedtratadofinal/preparandoparamongo/part-000025-6d2f5362-f6c5-49d6-9982-ee59459d43cc-c000.csv',\n",
        "'gs://caged_nacional/cagedtratadofinal/preparandoparamongo/part-000026-6d2f5362-f6c5-49d6-9982-ee59459d43cc-c000.csv',\n",
        "'gs://caged_nacional/cagedtratadofinal/preparandoparamongo/part-000027-6d2f5362-f6c5-49d6-9982-ee59459d43cc-c000.csv',\n",
        "'gs://caged_nacional/cagedtratadofinal/preparandoparamongo/part-000028-6d2f5362-f6c5-49d6-9982-ee59459d43cc-c000.csv',\n",
        "'gs://caged_nacional/cagedtratadofinal/preparandoparamongo/part-000029-6d2f5362-f6c5-49d6-9982-ee59459d43cc-c000.csv',\n",
        "'gs://caged_nacional/cagedtratadofinal/preparandoparamongo/part-000030-6d2f5362-f6c5-49d6-9982-ee59459d43cc-c000.csv',\n",
        "'gs://caged_nacional/cagedtratadofinal/preparandoparamongo/part-000031-6d2f5362-f6c5-49d6-9982-ee59459d43cc-c000.csv',\n",
        "'gs://caged_nacional/cagedtratadofinal/preparandoparamongo/part-000032-6d2f5362-f6c5-49d6-9982-ee59459d43cc-c000.csv',\n",
        "'gs://caged_nacional/cagedtratadofinal/preparandoparamongo/part-000033-6d2f5362-f6c5-49d6-9982-ee59459d43cc-c000.csv',\n",
        "'gs://caged_nacional/cagedtratadofinal/preparandoparamongo/part-000034-6d2f5362-f6c5-49d6-9982-ee59459d43cc-c000.csv',\n",
        "'gs://caged_nacional/cagedtratadofinal/preparandoparamongo/part-000035-6d2f5362-f6c5-49d6-9982-ee59459d43cc-c000.csv',\n",
        "'gs://caged_nacional/cagedtratadofinal/preparandoparamongo/part-000036-6d2f5362-f6c5-49d6-9982-ee59459d43cc-c000.csv',\n",
        "'gs://caged_nacional/cagedtratadofinal/preparandoparamongo/part-000037-6d2f5362-f6c5-49d6-9982-ee59459d43cc-c000.csv',\n",
        "'gs://caged_nacional/cagedtratadofinal/preparandoparamongo/part-000038-6d2f5362-f6c5-49d6-9982-ee59459d43cc-c000.csv',\n",
        "'gs://caged_nacional/cagedtratadofinal/preparandoparamongo/part-000039-6d2f5362-f6c5-49d6-9982-ee59459d43cc-c000.csv',\n",
        "'gs://caged_nacional/cagedtratadofinal/preparandoparamongo/part-000040-6d2f5362-f6c5-49d6-9982-ee59459d43cc-c000.csv',\n",
        "'gs://caged_nacional/cagedtratadofinal/preparandoparamongo/part-000041-6d2f5362-f6c5-49d6-9982-ee59459d43cc-c000.csv',\n",
        "'gs://caged_nacional/cagedtratadofinal/preparandoparamongo/part-000042-6d2f5362-f6c5-49d6-9982-ee59459d43cc-c000.csv',\n",
        "'gs://caged_nacional/cagedtratadofinal/preparandoparamongo/part-000043-6d2f5362-f6c5-49d6-9982-ee59459d43cc-c000.csv',\n",
        "'gs://caged_nacional/cagedtratadofinal/preparandoparamongo/part-000044-6d2f5362-f6c5-49d6-9982-ee59459d43cc-c000.csv',\n",
        "'gs://caged_nacional/cagedtratadofinal/preparandoparamongo/part-000045-6d2f5362-f6c5-49d6-9982-ee59459d43cc-c000.csv',\n",
        "'gs://caged_nacional/cagedtratadofinal/preparandoparamongo/part-000046-6d2f5362-f6c5-49d6-9982-ee59459d43cc-c000.csv',\n",
        "'gs://caged_nacional/cagedtratadofinal/preparandoparamongo/part-000047-6d2f5362-f6c5-49d6-9982-ee59459d43cc-c000.csv',\n",
        "'gs://caged_nacional/cagedtratadofinal/preparandoparamongo/part-000048-6d2f5362-f6c5-49d6-9982-ee59459d43cc-c000.csv',    \n",
        "]"
      ]
    },
    {
      "cell_type": "code",
      "source": [
        "from google.colab import drive\n",
        "drive.mount('/content/drive')"
      ],
      "metadata": {
        "id": "2Wdw7_Bf3UVy",
        "colab": {
          "base_uri": "https://localhost:8080/"
        },
        "outputId": "373af18d-0f93-4fb4-a406-16eab7ac5324"
      },
      "execution_count": 37,
      "outputs": [
        {
          "output_type": "stream",
          "name": "stdout",
          "text": [
            "Mounted at /content/drive\n"
          ]
        }
      ]
    },
    {
      "cell_type": "markdown",
      "source": [
        "# *How I did it when I was just trying to get a task done*"
      ],
      "metadata": {
        "id": "ifK1MG5u4A7z"
      }
    },
    {
      "cell_type": "code",
      "source": [
        "number = 1\n",
        "doc_count = 0\n",
        "#exec('df_trat_p'+str(number)+' = ' + 'df_trat_[doc_count:counter]')\n",
        "df_trat = pd.read_csv('gs://caged_nacional/cagedtratadofinal/preparandoparamongo/part-00005-6d2f5362-f6c5-49d6-9982-ee59459d43cc-c000.csv', sep = ',')\n",
        "counter =  40000\n",
        "flow = 1\n",
        "for j in listaDeLinks:\n",
        "  df_trat_ = pd.read_csv(j, sep = ',')\n",
        "  for i in range(int(len(df_trat_)/40000)):\n",
        "      print('check1')\n",
        "      if doc_count >= 40000:\n",
        "        print('check2')\n",
        "        counter += 40000 \n",
        "        number += 1\n",
        "        exec('df_trat_'+str(number)+ ' = ' + 'df_trat_'+\"[\"+str(counter-40000)+':'+str(counter)+\"]\")\n",
        "      else:\n",
        "        exec('df_trat_'+str(number)+ ' = ' + 'df_trat_'+\"[\"+str(counter)+':'+str(counter+40000)+\"]\") \n",
        "      exec('df_trat_'+str(number)+'dict'+ ' = ' + 'df_trat_'+str(number)+\".to_dict('records')\")\n",
        "      exec(\"colecao_\" + str(counter) + \" = \" + \"client['Caged\"+str(flow)+\"']\"+\"['caged_tratado_p\"+str(number)+\"']\")\n",
        "      print('check3')\n",
        "      exec(\"colecao_\" + str(counter)+\".insert_many(df_trat_\" + str(number) + \"dict)\")\n",
        "      exec('doc_count'+ \"=\" + \"colecao_\" + str(counter)+'.count_documents({})')\n",
        "      print(doc_count)\n",
        "  flow += 1"
      ],
      "metadata": {
        "id": "nomJ-Ti2kOTK"
      },
      "execution_count": null,
      "outputs": []
    },
    {
      "cell_type": "markdown",
      "source": [
        "# *How I really got it adapted and working well*\n",
        "###### the error message came about because of mongoDB storage availability shortage"
      ],
      "metadata": {
        "id": "nW6uh2dt4thz"
      }
    },
    {
      "cell_type": "code",
      "source": [
        "def main():\n",
        "    linhas = 40000\n",
        "    number = 0\n",
        "    doc_count = 0\n",
        "    counter = 40000\n",
        "    flow = 1\n",
        "    df_trat_dict = {}\n",
        "    for j in listaDepaths:\n",
        "        df_trat = set_dataframe(j)\n",
        "        print(len(df_trat))\n",
        "        for i in range(int(len(df_trat)/40000)):\n",
        "          print('check1')\n",
        "          df_trat_dict[f\"df_trat_{number}\"],counter = check_count(df_trat, doc_count, counter, number)\n",
        "          df_dict = toDict(df_trat_dict[f\"df_trat_{number}\"],number)\n",
        "          colecao = criaColecao(flow, number)\n",
        "          insert(df_dict, colecao)\n",
        "          print(f'doc_count: {counting(colecao)}')\n",
        "          number += 1\n",
        "        flow += 1\n",
        "          \n",
        "    \n",
        "def set_dataframe(path):\n",
        "    df_trat = pd.read_csv(path, sep=';')\n",
        "    return df_trat\n",
        "\n",
        "def check_count(df_trat, doc_count, counter, number):\n",
        "      if doc_count >= 40000:\n",
        "          counter += 40000\n",
        "          number += 1\n",
        "          df_trat_p = df_trat[counter - 40000: counter]\n",
        "      else:\n",
        "          df_trat_p = df_trat[counter: counter + 40000]\n",
        "      return df_trat_p, counter\n",
        "\n",
        "def toDict(df_trat, number):\n",
        "    df_trat_dict = df_trat.to_dict('records')\n",
        "    return df_trat_dict\n",
        "\n",
        "def criaColecao(flow, number):\n",
        "    colecao = client['FsemesterProject'][f'colecao{str(flow)}']\n",
        "    return colecao\n",
        "\n",
        "def insert(df_dict, colecao):\n",
        "    colecao.insert_many(df_dict)\n",
        "\n",
        "def counting(colecao):\n",
        "    doc_count = colecao.count_documents({})\n",
        "    return doc_count\n",
        "\n",
        "if __name__ == '__main__':\n",
        "    main()\n"
      ],
      "metadata": {
        "colab": {
          "base_uri": "https://localhost:8080/",
          "height": 1000
        },
        "id": "7fqSkcz6KFBD",
        "outputId": "32de9d38-c41f-44f0-eada-27a14cf980d0"
      },
      "execution_count": 30,
      "outputs": [
        {
          "output_type": "stream",
          "name": "stdout",
          "text": [
            "2677294\n",
            "check1\n",
            "doc_count: 40000\n",
            "check1\n",
            "doc_count: 80000\n",
            "check1\n",
            "doc_count: 120000\n",
            "check1\n",
            "doc_count: 160000\n",
            "check1\n",
            "doc_count: 200000\n",
            "check1\n",
            "doc_count: 240000\n",
            "check1\n",
            "doc_count: 280000\n",
            "check1\n",
            "doc_count: 320000\n",
            "check1\n",
            "doc_count: 360000\n",
            "check1\n",
            "doc_count: 400000\n",
            "check1\n",
            "doc_count: 440000\n",
            "check1\n",
            "doc_count: 480000\n",
            "check1\n",
            "doc_count: 520000\n",
            "check1\n",
            "doc_count: 560000\n",
            "check1\n",
            "doc_count: 600000\n",
            "check1\n",
            "doc_count: 640000\n",
            "check1\n",
            "doc_count: 680000\n",
            "check1\n",
            "doc_count: 720000\n",
            "check1\n",
            "doc_count: 760000\n",
            "check1\n",
            "doc_count: 800000\n",
            "check1\n",
            "doc_count: 840000\n",
            "check1\n",
            "doc_count: 880000\n",
            "check1\n"
          ]
        },
        {
          "output_type": "error",
          "ename": "OperationFailure",
          "evalue": "ignored",
          "traceback": [
            "\u001b[0;31m---------------------------------------------------------------------------\u001b[0m",
            "\u001b[0;31mOperationFailure\u001b[0m                          Traceback (most recent call last)",
            "\u001b[0;32m<ipython-input-30-7a960a68db86>\u001b[0m in \u001b[0;36m<module>\u001b[0;34m\u001b[0m\n\u001b[1;32m     49\u001b[0m \u001b[0;34m\u001b[0m\u001b[0m\n\u001b[1;32m     50\u001b[0m \u001b[0;32mif\u001b[0m \u001b[0m__name__\u001b[0m \u001b[0;34m==\u001b[0m \u001b[0;34m'__main__'\u001b[0m\u001b[0;34m:\u001b[0m\u001b[0;34m\u001b[0m\u001b[0;34m\u001b[0m\u001b[0m\n\u001b[0;32m---> 51\u001b[0;31m     \u001b[0mmain\u001b[0m\u001b[0;34m(\u001b[0m\u001b[0;34m)\u001b[0m\u001b[0;34m\u001b[0m\u001b[0;34m\u001b[0m\u001b[0m\n\u001b[0m",
            "\u001b[0;32m<ipython-input-30-7a960a68db86>\u001b[0m in \u001b[0;36mmain\u001b[0;34m()\u001b[0m\n\u001b[1;32m     14\u001b[0m           \u001b[0mdf_dict\u001b[0m \u001b[0;34m=\u001b[0m \u001b[0mtoDict\u001b[0m\u001b[0;34m(\u001b[0m\u001b[0mdf_trat_dict\u001b[0m\u001b[0;34m[\u001b[0m\u001b[0;34mf\"df_trat_{number}\"\u001b[0m\u001b[0;34m]\u001b[0m\u001b[0;34m,\u001b[0m\u001b[0mnumber\u001b[0m\u001b[0;34m)\u001b[0m\u001b[0;34m\u001b[0m\u001b[0;34m\u001b[0m\u001b[0m\n\u001b[1;32m     15\u001b[0m           \u001b[0mcolecao\u001b[0m \u001b[0;34m=\u001b[0m \u001b[0mcriaColecao\u001b[0m\u001b[0;34m(\u001b[0m\u001b[0mflow\u001b[0m\u001b[0;34m,\u001b[0m \u001b[0mnumber\u001b[0m\u001b[0;34m)\u001b[0m\u001b[0;34m\u001b[0m\u001b[0;34m\u001b[0m\u001b[0m\n\u001b[0;32m---> 16\u001b[0;31m           \u001b[0minsert\u001b[0m\u001b[0;34m(\u001b[0m\u001b[0mdf_dict\u001b[0m\u001b[0;34m,\u001b[0m \u001b[0mcolecao\u001b[0m\u001b[0;34m)\u001b[0m\u001b[0;34m\u001b[0m\u001b[0;34m\u001b[0m\u001b[0m\n\u001b[0m\u001b[1;32m     17\u001b[0m           \u001b[0mprint\u001b[0m\u001b[0;34m(\u001b[0m\u001b[0;34mf'doc_count: {counting(colecao)}'\u001b[0m\u001b[0;34m)\u001b[0m\u001b[0;34m\u001b[0m\u001b[0;34m\u001b[0m\u001b[0m\n\u001b[1;32m     18\u001b[0m           \u001b[0mnumber\u001b[0m \u001b[0;34m+=\u001b[0m \u001b[0;36m1\u001b[0m\u001b[0;34m\u001b[0m\u001b[0;34m\u001b[0m\u001b[0m\n",
            "\u001b[0;32m<ipython-input-30-7a960a68db86>\u001b[0m in \u001b[0;36minsert\u001b[0;34m(df_dict, colecao)\u001b[0m\n\u001b[1;32m     42\u001b[0m \u001b[0;34m\u001b[0m\u001b[0m\n\u001b[1;32m     43\u001b[0m \u001b[0;32mdef\u001b[0m \u001b[0minsert\u001b[0m\u001b[0;34m(\u001b[0m\u001b[0mdf_dict\u001b[0m\u001b[0;34m,\u001b[0m \u001b[0mcolecao\u001b[0m\u001b[0;34m)\u001b[0m\u001b[0;34m:\u001b[0m\u001b[0;34m\u001b[0m\u001b[0;34m\u001b[0m\u001b[0m\n\u001b[0;32m---> 44\u001b[0;31m     \u001b[0mcolecao\u001b[0m\u001b[0;34m.\u001b[0m\u001b[0minsert_many\u001b[0m\u001b[0;34m(\u001b[0m\u001b[0mdf_dict\u001b[0m\u001b[0;34m)\u001b[0m\u001b[0;34m\u001b[0m\u001b[0;34m\u001b[0m\u001b[0m\n\u001b[0m\u001b[1;32m     45\u001b[0m \u001b[0;34m\u001b[0m\u001b[0m\n\u001b[1;32m     46\u001b[0m \u001b[0;32mdef\u001b[0m \u001b[0mcounting\u001b[0m\u001b[0;34m(\u001b[0m\u001b[0mcolecao\u001b[0m\u001b[0;34m)\u001b[0m\u001b[0;34m:\u001b[0m\u001b[0;34m\u001b[0m\u001b[0;34m\u001b[0m\u001b[0m\n",
            "\u001b[0;32m/usr/local/lib/python3.8/dist-packages/pymongo/_csot.py\u001b[0m in \u001b[0;36mcsot_wrapper\u001b[0;34m(self, *args, **kwargs)\u001b[0m\n\u001b[1;32m    103\u001b[0m                 \u001b[0;32mwith\u001b[0m \u001b[0m_TimeoutContext\u001b[0m\u001b[0;34m(\u001b[0m\u001b[0mtimeout\u001b[0m\u001b[0;34m)\u001b[0m\u001b[0;34m:\u001b[0m\u001b[0;34m\u001b[0m\u001b[0;34m\u001b[0m\u001b[0m\n\u001b[1;32m    104\u001b[0m                     \u001b[0;32mreturn\u001b[0m \u001b[0mfunc\u001b[0m\u001b[0;34m(\u001b[0m\u001b[0mself\u001b[0m\u001b[0;34m,\u001b[0m \u001b[0;34m*\u001b[0m\u001b[0margs\u001b[0m\u001b[0;34m,\u001b[0m \u001b[0;34m**\u001b[0m\u001b[0mkwargs\u001b[0m\u001b[0;34m)\u001b[0m\u001b[0;34m\u001b[0m\u001b[0;34m\u001b[0m\u001b[0m\n\u001b[0;32m--> 105\u001b[0;31m         \u001b[0;32mreturn\u001b[0m \u001b[0mfunc\u001b[0m\u001b[0;34m(\u001b[0m\u001b[0mself\u001b[0m\u001b[0;34m,\u001b[0m \u001b[0;34m*\u001b[0m\u001b[0margs\u001b[0m\u001b[0;34m,\u001b[0m \u001b[0;34m**\u001b[0m\u001b[0mkwargs\u001b[0m\u001b[0;34m)\u001b[0m\u001b[0;34m\u001b[0m\u001b[0;34m\u001b[0m\u001b[0m\n\u001b[0m\u001b[1;32m    106\u001b[0m \u001b[0;34m\u001b[0m\u001b[0m\n\u001b[1;32m    107\u001b[0m     \u001b[0;32mreturn\u001b[0m \u001b[0mcast\u001b[0m\u001b[0;34m(\u001b[0m\u001b[0mF\u001b[0m\u001b[0;34m,\u001b[0m \u001b[0mcsot_wrapper\u001b[0m\u001b[0;34m)\u001b[0m\u001b[0;34m\u001b[0m\u001b[0;34m\u001b[0m\u001b[0m\n",
            "\u001b[0;32m/usr/local/lib/python3.8/dist-packages/pymongo/collection.py\u001b[0m in \u001b[0;36minsert_many\u001b[0;34m(self, documents, ordered, bypass_document_validation, session, comment)\u001b[0m\n\u001b[1;32m    712\u001b[0m         \u001b[0mblk\u001b[0m \u001b[0;34m=\u001b[0m \u001b[0m_Bulk\u001b[0m\u001b[0;34m(\u001b[0m\u001b[0mself\u001b[0m\u001b[0;34m,\u001b[0m \u001b[0mordered\u001b[0m\u001b[0;34m,\u001b[0m \u001b[0mbypass_document_validation\u001b[0m\u001b[0;34m,\u001b[0m \u001b[0mcomment\u001b[0m\u001b[0;34m=\u001b[0m\u001b[0mcomment\u001b[0m\u001b[0;34m)\u001b[0m\u001b[0;34m\u001b[0m\u001b[0;34m\u001b[0m\u001b[0m\n\u001b[1;32m    713\u001b[0m         \u001b[0mblk\u001b[0m\u001b[0;34m.\u001b[0m\u001b[0mops\u001b[0m \u001b[0;34m=\u001b[0m \u001b[0;34m[\u001b[0m\u001b[0mdoc\u001b[0m \u001b[0;32mfor\u001b[0m \u001b[0mdoc\u001b[0m \u001b[0;32min\u001b[0m \u001b[0mgen\u001b[0m\u001b[0;34m(\u001b[0m\u001b[0;34m)\u001b[0m\u001b[0;34m]\u001b[0m\u001b[0;34m\u001b[0m\u001b[0;34m\u001b[0m\u001b[0m\n\u001b[0;32m--> 714\u001b[0;31m         \u001b[0mblk\u001b[0m\u001b[0;34m.\u001b[0m\u001b[0mexecute\u001b[0m\u001b[0;34m(\u001b[0m\u001b[0mwrite_concern\u001b[0m\u001b[0;34m,\u001b[0m \u001b[0msession\u001b[0m\u001b[0;34m=\u001b[0m\u001b[0msession\u001b[0m\u001b[0;34m)\u001b[0m\u001b[0;34m\u001b[0m\u001b[0;34m\u001b[0m\u001b[0m\n\u001b[0m\u001b[1;32m    715\u001b[0m         \u001b[0;32mreturn\u001b[0m \u001b[0mInsertManyResult\u001b[0m\u001b[0;34m(\u001b[0m\u001b[0minserted_ids\u001b[0m\u001b[0;34m,\u001b[0m \u001b[0mwrite_concern\u001b[0m\u001b[0;34m.\u001b[0m\u001b[0macknowledged\u001b[0m\u001b[0;34m)\u001b[0m\u001b[0;34m\u001b[0m\u001b[0;34m\u001b[0m\u001b[0m\n\u001b[1;32m    716\u001b[0m \u001b[0;34m\u001b[0m\u001b[0m\n",
            "\u001b[0;32m/usr/local/lib/python3.8/dist-packages/pymongo/bulk.py\u001b[0m in \u001b[0;36mexecute\u001b[0;34m(self, write_concern, session)\u001b[0m\n\u001b[1;32m    511\u001b[0m                 \u001b[0mself\u001b[0m\u001b[0;34m.\u001b[0m\u001b[0mexecute_no_results\u001b[0m\u001b[0;34m(\u001b[0m\u001b[0msock_info\u001b[0m\u001b[0;34m,\u001b[0m \u001b[0mgenerator\u001b[0m\u001b[0;34m,\u001b[0m \u001b[0mwrite_concern\u001b[0m\u001b[0;34m)\u001b[0m\u001b[0;34m\u001b[0m\u001b[0;34m\u001b[0m\u001b[0m\n\u001b[1;32m    512\u001b[0m         \u001b[0;32melse\u001b[0m\u001b[0;34m:\u001b[0m\u001b[0;34m\u001b[0m\u001b[0;34m\u001b[0m\u001b[0m\n\u001b[0;32m--> 513\u001b[0;31m             \u001b[0;32mreturn\u001b[0m \u001b[0mself\u001b[0m\u001b[0;34m.\u001b[0m\u001b[0mexecute_command\u001b[0m\u001b[0;34m(\u001b[0m\u001b[0mgenerator\u001b[0m\u001b[0;34m,\u001b[0m \u001b[0mwrite_concern\u001b[0m\u001b[0;34m,\u001b[0m \u001b[0msession\u001b[0m\u001b[0;34m)\u001b[0m\u001b[0;34m\u001b[0m\u001b[0;34m\u001b[0m\u001b[0m\n\u001b[0m",
            "\u001b[0;32m/usr/local/lib/python3.8/dist-packages/pymongo/bulk.py\u001b[0m in \u001b[0;36mexecute_command\u001b[0;34m(self, generator, write_concern, session)\u001b[0m\n\u001b[1;32m    389\u001b[0m         \u001b[0mclient\u001b[0m \u001b[0;34m=\u001b[0m \u001b[0mself\u001b[0m\u001b[0;34m.\u001b[0m\u001b[0mcollection\u001b[0m\u001b[0;34m.\u001b[0m\u001b[0mdatabase\u001b[0m\u001b[0;34m.\u001b[0m\u001b[0mclient\u001b[0m\u001b[0;34m\u001b[0m\u001b[0;34m\u001b[0m\u001b[0m\n\u001b[1;32m    390\u001b[0m         \u001b[0;32mwith\u001b[0m \u001b[0mclient\u001b[0m\u001b[0;34m.\u001b[0m\u001b[0m_tmp_session\u001b[0m\u001b[0;34m(\u001b[0m\u001b[0msession\u001b[0m\u001b[0;34m)\u001b[0m \u001b[0;32mas\u001b[0m \u001b[0ms\u001b[0m\u001b[0;34m:\u001b[0m\u001b[0;34m\u001b[0m\u001b[0;34m\u001b[0m\u001b[0m\n\u001b[0;32m--> 391\u001b[0;31m             \u001b[0mclient\u001b[0m\u001b[0;34m.\u001b[0m\u001b[0m_retry_with_session\u001b[0m\u001b[0;34m(\u001b[0m\u001b[0mself\u001b[0m\u001b[0;34m.\u001b[0m\u001b[0mis_retryable\u001b[0m\u001b[0;34m,\u001b[0m \u001b[0mretryable_bulk\u001b[0m\u001b[0;34m,\u001b[0m \u001b[0ms\u001b[0m\u001b[0;34m,\u001b[0m \u001b[0mself\u001b[0m\u001b[0;34m)\u001b[0m\u001b[0;34m\u001b[0m\u001b[0;34m\u001b[0m\u001b[0m\n\u001b[0m\u001b[1;32m    392\u001b[0m \u001b[0;34m\u001b[0m\u001b[0m\n\u001b[1;32m    393\u001b[0m         \u001b[0;32mif\u001b[0m \u001b[0mfull_result\u001b[0m\u001b[0;34m[\u001b[0m\u001b[0;34m\"writeErrors\"\u001b[0m\u001b[0;34m]\u001b[0m \u001b[0;32mor\u001b[0m \u001b[0mfull_result\u001b[0m\u001b[0;34m[\u001b[0m\u001b[0;34m\"writeConcernErrors\"\u001b[0m\u001b[0;34m]\u001b[0m\u001b[0;34m:\u001b[0m\u001b[0;34m\u001b[0m\u001b[0;34m\u001b[0m\u001b[0m\n",
            "\u001b[0;32m/usr/local/lib/python3.8/dist-packages/pymongo/mongo_client.py\u001b[0m in \u001b[0;36m_retry_with_session\u001b[0;34m(self, retryable, func, session, bulk)\u001b[0m\n\u001b[1;32m   1347\u001b[0m             \u001b[0mretryable\u001b[0m \u001b[0;32mand\u001b[0m \u001b[0mself\u001b[0m\u001b[0;34m.\u001b[0m\u001b[0moptions\u001b[0m\u001b[0;34m.\u001b[0m\u001b[0mretry_writes\u001b[0m \u001b[0;32mand\u001b[0m \u001b[0msession\u001b[0m \u001b[0;32mand\u001b[0m \u001b[0;32mnot\u001b[0m \u001b[0msession\u001b[0m\u001b[0;34m.\u001b[0m\u001b[0min_transaction\u001b[0m\u001b[0;34m\u001b[0m\u001b[0;34m\u001b[0m\u001b[0m\n\u001b[1;32m   1348\u001b[0m         )\n\u001b[0;32m-> 1349\u001b[0;31m         \u001b[0;32mreturn\u001b[0m \u001b[0mself\u001b[0m\u001b[0;34m.\u001b[0m\u001b[0m_retry_internal\u001b[0m\u001b[0;34m(\u001b[0m\u001b[0mretryable\u001b[0m\u001b[0;34m,\u001b[0m \u001b[0mfunc\u001b[0m\u001b[0;34m,\u001b[0m \u001b[0msession\u001b[0m\u001b[0;34m,\u001b[0m \u001b[0mbulk\u001b[0m\u001b[0;34m)\u001b[0m\u001b[0;34m\u001b[0m\u001b[0;34m\u001b[0m\u001b[0m\n\u001b[0m\u001b[1;32m   1350\u001b[0m \u001b[0;34m\u001b[0m\u001b[0m\n\u001b[1;32m   1351\u001b[0m     \u001b[0;34m@\u001b[0m\u001b[0m_csot\u001b[0m\u001b[0;34m.\u001b[0m\u001b[0mapply\u001b[0m\u001b[0;34m\u001b[0m\u001b[0;34m\u001b[0m\u001b[0m\n",
            "\u001b[0;32m/usr/local/lib/python3.8/dist-packages/pymongo/_csot.py\u001b[0m in \u001b[0;36mcsot_wrapper\u001b[0;34m(self, *args, **kwargs)\u001b[0m\n\u001b[1;32m    103\u001b[0m                 \u001b[0;32mwith\u001b[0m \u001b[0m_TimeoutContext\u001b[0m\u001b[0;34m(\u001b[0m\u001b[0mtimeout\u001b[0m\u001b[0;34m)\u001b[0m\u001b[0;34m:\u001b[0m\u001b[0;34m\u001b[0m\u001b[0;34m\u001b[0m\u001b[0m\n\u001b[1;32m    104\u001b[0m                     \u001b[0;32mreturn\u001b[0m \u001b[0mfunc\u001b[0m\u001b[0;34m(\u001b[0m\u001b[0mself\u001b[0m\u001b[0;34m,\u001b[0m \u001b[0;34m*\u001b[0m\u001b[0margs\u001b[0m\u001b[0;34m,\u001b[0m \u001b[0;34m**\u001b[0m\u001b[0mkwargs\u001b[0m\u001b[0;34m)\u001b[0m\u001b[0;34m\u001b[0m\u001b[0;34m\u001b[0m\u001b[0m\n\u001b[0;32m--> 105\u001b[0;31m         \u001b[0;32mreturn\u001b[0m \u001b[0mfunc\u001b[0m\u001b[0;34m(\u001b[0m\u001b[0mself\u001b[0m\u001b[0;34m,\u001b[0m \u001b[0;34m*\u001b[0m\u001b[0margs\u001b[0m\u001b[0;34m,\u001b[0m \u001b[0;34m**\u001b[0m\u001b[0mkwargs\u001b[0m\u001b[0;34m)\u001b[0m\u001b[0;34m\u001b[0m\u001b[0;34m\u001b[0m\u001b[0m\n\u001b[0m\u001b[1;32m    106\u001b[0m \u001b[0;34m\u001b[0m\u001b[0m\n\u001b[1;32m    107\u001b[0m     \u001b[0;32mreturn\u001b[0m \u001b[0mcast\u001b[0m\u001b[0;34m(\u001b[0m\u001b[0mF\u001b[0m\u001b[0;34m,\u001b[0m \u001b[0mcsot_wrapper\u001b[0m\u001b[0;34m)\u001b[0m\u001b[0;34m\u001b[0m\u001b[0;34m\u001b[0m\u001b[0m\n",
            "\u001b[0;32m/usr/local/lib/python3.8/dist-packages/pymongo/mongo_client.py\u001b[0m in \u001b[0;36m_retry_internal\u001b[0;34m(self, retryable, func, session, bulk)\u001b[0m\n\u001b[1;32m   1388\u001b[0m                             \u001b[0;32mraise\u001b[0m \u001b[0mlast_error\u001b[0m\u001b[0;34m\u001b[0m\u001b[0;34m\u001b[0m\u001b[0m\n\u001b[1;32m   1389\u001b[0m                         \u001b[0mretryable\u001b[0m \u001b[0;34m=\u001b[0m \u001b[0;32mFalse\u001b[0m\u001b[0;34m\u001b[0m\u001b[0;34m\u001b[0m\u001b[0m\n\u001b[0;32m-> 1390\u001b[0;31m                     \u001b[0;32mreturn\u001b[0m \u001b[0mfunc\u001b[0m\u001b[0;34m(\u001b[0m\u001b[0msession\u001b[0m\u001b[0;34m,\u001b[0m \u001b[0msock_info\u001b[0m\u001b[0;34m,\u001b[0m \u001b[0mretryable\u001b[0m\u001b[0;34m)\u001b[0m\u001b[0;34m\u001b[0m\u001b[0;34m\u001b[0m\u001b[0m\n\u001b[0m\u001b[1;32m   1391\u001b[0m             \u001b[0;32mexcept\u001b[0m \u001b[0mServerSelectionTimeoutError\u001b[0m\u001b[0;34m:\u001b[0m\u001b[0;34m\u001b[0m\u001b[0;34m\u001b[0m\u001b[0m\n\u001b[1;32m   1392\u001b[0m                 \u001b[0;32mif\u001b[0m \u001b[0mis_retrying\u001b[0m\u001b[0;34m(\u001b[0m\u001b[0;34m)\u001b[0m\u001b[0;34m:\u001b[0m\u001b[0;34m\u001b[0m\u001b[0;34m\u001b[0m\u001b[0m\n",
            "\u001b[0;32m/usr/local/lib/python3.8/dist-packages/pymongo/bulk.py\u001b[0m in \u001b[0;36mretryable_bulk\u001b[0;34m(session, sock_info, retryable)\u001b[0m\n\u001b[1;32m    383\u001b[0m \u001b[0;34m\u001b[0m\u001b[0m\n\u001b[1;32m    384\u001b[0m         \u001b[0;32mdef\u001b[0m \u001b[0mretryable_bulk\u001b[0m\u001b[0;34m(\u001b[0m\u001b[0msession\u001b[0m\u001b[0;34m,\u001b[0m \u001b[0msock_info\u001b[0m\u001b[0;34m,\u001b[0m \u001b[0mretryable\u001b[0m\u001b[0;34m)\u001b[0m\u001b[0;34m:\u001b[0m\u001b[0;34m\u001b[0m\u001b[0;34m\u001b[0m\u001b[0m\n\u001b[0;32m--> 385\u001b[0;31m             self._execute_command(\n\u001b[0m\u001b[1;32m    386\u001b[0m                 \u001b[0mgenerator\u001b[0m\u001b[0;34m,\u001b[0m \u001b[0mwrite_concern\u001b[0m\u001b[0;34m,\u001b[0m \u001b[0msession\u001b[0m\u001b[0;34m,\u001b[0m \u001b[0msock_info\u001b[0m\u001b[0;34m,\u001b[0m \u001b[0mop_id\u001b[0m\u001b[0;34m,\u001b[0m \u001b[0mretryable\u001b[0m\u001b[0;34m,\u001b[0m \u001b[0mfull_result\u001b[0m\u001b[0;34m\u001b[0m\u001b[0;34m\u001b[0m\u001b[0m\n\u001b[1;32m    387\u001b[0m             )\n",
            "\u001b[0;32m/usr/local/lib/python3.8/dist-packages/pymongo/bulk.py\u001b[0m in \u001b[0;36m_execute_command\u001b[0;34m(self, generator, write_concern, session, sock_info, op_id, retryable, full_result, final_write_concern)\u001b[0m\n\u001b[1;32m    336\u001b[0m                 \u001b[0;31m# Run as many ops as possible in one command.\u001b[0m\u001b[0;34m\u001b[0m\u001b[0;34m\u001b[0m\u001b[0;34m\u001b[0m\u001b[0m\n\u001b[1;32m    337\u001b[0m                 \u001b[0;32mif\u001b[0m \u001b[0mwrite_concern\u001b[0m\u001b[0;34m.\u001b[0m\u001b[0macknowledged\u001b[0m\u001b[0;34m:\u001b[0m\u001b[0;34m\u001b[0m\u001b[0;34m\u001b[0m\u001b[0m\n\u001b[0;32m--> 338\u001b[0;31m                     \u001b[0mresult\u001b[0m\u001b[0;34m,\u001b[0m \u001b[0mto_send\u001b[0m \u001b[0;34m=\u001b[0m \u001b[0mbwc\u001b[0m\u001b[0;34m.\u001b[0m\u001b[0mexecute\u001b[0m\u001b[0;34m(\u001b[0m\u001b[0mcmd\u001b[0m\u001b[0;34m,\u001b[0m \u001b[0mops\u001b[0m\u001b[0;34m,\u001b[0m \u001b[0mclient\u001b[0m\u001b[0;34m)\u001b[0m\u001b[0;34m\u001b[0m\u001b[0;34m\u001b[0m\u001b[0m\n\u001b[0m\u001b[1;32m    339\u001b[0m \u001b[0;34m\u001b[0m\u001b[0m\n\u001b[1;32m    340\u001b[0m                     \u001b[0;31m# Retryable writeConcernErrors halt the execution of this run.\u001b[0m\u001b[0;34m\u001b[0m\u001b[0;34m\u001b[0m\u001b[0;34m\u001b[0m\u001b[0m\n",
            "\u001b[0;32m/usr/local/lib/python3.8/dist-packages/pymongo/message.py\u001b[0m in \u001b[0;36mexecute\u001b[0;34m(self, cmd, docs, client)\u001b[0m\n\u001b[1;32m    840\u001b[0m     \u001b[0;32mdef\u001b[0m \u001b[0mexecute\u001b[0m\u001b[0;34m(\u001b[0m\u001b[0mself\u001b[0m\u001b[0;34m,\u001b[0m \u001b[0mcmd\u001b[0m\u001b[0;34m,\u001b[0m \u001b[0mdocs\u001b[0m\u001b[0;34m,\u001b[0m \u001b[0mclient\u001b[0m\u001b[0;34m)\u001b[0m\u001b[0;34m:\u001b[0m\u001b[0;34m\u001b[0m\u001b[0;34m\u001b[0m\u001b[0m\n\u001b[1;32m    841\u001b[0m         \u001b[0mrequest_id\u001b[0m\u001b[0;34m,\u001b[0m \u001b[0mmsg\u001b[0m\u001b[0;34m,\u001b[0m \u001b[0mto_send\u001b[0m \u001b[0;34m=\u001b[0m \u001b[0mself\u001b[0m\u001b[0;34m.\u001b[0m\u001b[0m_batch_command\u001b[0m\u001b[0;34m(\u001b[0m\u001b[0mcmd\u001b[0m\u001b[0;34m,\u001b[0m \u001b[0mdocs\u001b[0m\u001b[0;34m)\u001b[0m\u001b[0;34m\u001b[0m\u001b[0;34m\u001b[0m\u001b[0m\n\u001b[0;32m--> 842\u001b[0;31m         \u001b[0mresult\u001b[0m \u001b[0;34m=\u001b[0m \u001b[0mself\u001b[0m\u001b[0;34m.\u001b[0m\u001b[0mwrite_command\u001b[0m\u001b[0;34m(\u001b[0m\u001b[0mcmd\u001b[0m\u001b[0;34m,\u001b[0m \u001b[0mrequest_id\u001b[0m\u001b[0;34m,\u001b[0m \u001b[0mmsg\u001b[0m\u001b[0;34m,\u001b[0m \u001b[0mto_send\u001b[0m\u001b[0;34m)\u001b[0m\u001b[0;34m\u001b[0m\u001b[0;34m\u001b[0m\u001b[0m\n\u001b[0m\u001b[1;32m    843\u001b[0m         \u001b[0mclient\u001b[0m\u001b[0;34m.\u001b[0m\u001b[0m_process_response\u001b[0m\u001b[0;34m(\u001b[0m\u001b[0mresult\u001b[0m\u001b[0;34m,\u001b[0m \u001b[0mself\u001b[0m\u001b[0;34m.\u001b[0m\u001b[0msession\u001b[0m\u001b[0;34m)\u001b[0m\u001b[0;34m\u001b[0m\u001b[0;34m\u001b[0m\u001b[0m\n\u001b[1;32m    844\u001b[0m         \u001b[0;32mreturn\u001b[0m \u001b[0mresult\u001b[0m\u001b[0;34m,\u001b[0m \u001b[0mto_send\u001b[0m\u001b[0;34m\u001b[0m\u001b[0;34m\u001b[0m\u001b[0m\n",
            "\u001b[0;32m/usr/local/lib/python3.8/dist-packages/pymongo/message.py\u001b[0m in \u001b[0;36mwrite_command\u001b[0;34m(self, cmd, request_id, msg, docs)\u001b[0m\n\u001b[1;32m    918\u001b[0m             \u001b[0mstart\u001b[0m \u001b[0;34m=\u001b[0m \u001b[0mdatetime\u001b[0m\u001b[0;34m.\u001b[0m\u001b[0mdatetime\u001b[0m\u001b[0;34m.\u001b[0m\u001b[0mnow\u001b[0m\u001b[0;34m(\u001b[0m\u001b[0;34m)\u001b[0m\u001b[0;34m\u001b[0m\u001b[0;34m\u001b[0m\u001b[0m\n\u001b[1;32m    919\u001b[0m         \u001b[0;32mtry\u001b[0m\u001b[0;34m:\u001b[0m\u001b[0;34m\u001b[0m\u001b[0;34m\u001b[0m\u001b[0m\n\u001b[0;32m--> 920\u001b[0;31m             \u001b[0mreply\u001b[0m \u001b[0;34m=\u001b[0m \u001b[0mself\u001b[0m\u001b[0;34m.\u001b[0m\u001b[0msock_info\u001b[0m\u001b[0;34m.\u001b[0m\u001b[0mwrite_command\u001b[0m\u001b[0;34m(\u001b[0m\u001b[0mrequest_id\u001b[0m\u001b[0;34m,\u001b[0m \u001b[0mmsg\u001b[0m\u001b[0;34m,\u001b[0m \u001b[0mself\u001b[0m\u001b[0;34m.\u001b[0m\u001b[0mcodec\u001b[0m\u001b[0;34m)\u001b[0m\u001b[0;34m\u001b[0m\u001b[0;34m\u001b[0m\u001b[0m\n\u001b[0m\u001b[1;32m    921\u001b[0m             \u001b[0;32mif\u001b[0m \u001b[0mself\u001b[0m\u001b[0;34m.\u001b[0m\u001b[0mpublish\u001b[0m\u001b[0;34m:\u001b[0m\u001b[0;34m\u001b[0m\u001b[0;34m\u001b[0m\u001b[0m\n\u001b[1;32m    922\u001b[0m                 \u001b[0mduration\u001b[0m \u001b[0;34m=\u001b[0m \u001b[0;34m(\u001b[0m\u001b[0mdatetime\u001b[0m\u001b[0;34m.\u001b[0m\u001b[0mdatetime\u001b[0m\u001b[0;34m.\u001b[0m\u001b[0mnow\u001b[0m\u001b[0;34m(\u001b[0m\u001b[0;34m)\u001b[0m \u001b[0;34m-\u001b[0m \u001b[0mstart\u001b[0m\u001b[0;34m)\u001b[0m \u001b[0;34m+\u001b[0m \u001b[0mduration\u001b[0m\u001b[0;34m\u001b[0m\u001b[0;34m\u001b[0m\u001b[0m\n",
            "\u001b[0;32m/usr/local/lib/python3.8/dist-packages/pymongo/pool.py\u001b[0m in \u001b[0;36mwrite_command\u001b[0;34m(self, request_id, msg, codec_options)\u001b[0m\n\u001b[1;32m    855\u001b[0m \u001b[0;34m\u001b[0m\u001b[0m\n\u001b[1;32m    856\u001b[0m         \u001b[0;31m# Raises NotPrimaryError or OperationFailure.\u001b[0m\u001b[0;34m\u001b[0m\u001b[0;34m\u001b[0m\u001b[0;34m\u001b[0m\u001b[0m\n\u001b[0;32m--> 857\u001b[0;31m         \u001b[0mhelpers\u001b[0m\u001b[0;34m.\u001b[0m\u001b[0m_check_command_response\u001b[0m\u001b[0;34m(\u001b[0m\u001b[0mresult\u001b[0m\u001b[0;34m,\u001b[0m \u001b[0mself\u001b[0m\u001b[0;34m.\u001b[0m\u001b[0mmax_wire_version\u001b[0m\u001b[0;34m)\u001b[0m\u001b[0;34m\u001b[0m\u001b[0;34m\u001b[0m\u001b[0m\n\u001b[0m\u001b[1;32m    858\u001b[0m         \u001b[0;32mreturn\u001b[0m \u001b[0mresult\u001b[0m\u001b[0;34m\u001b[0m\u001b[0;34m\u001b[0m\u001b[0m\n\u001b[1;32m    859\u001b[0m \u001b[0;34m\u001b[0m\u001b[0m\n",
            "\u001b[0;32m/usr/local/lib/python3.8/dist-packages/pymongo/helpers.py\u001b[0m in \u001b[0;36m_check_command_response\u001b[0;34m(response, max_wire_version, allowable_errors, parse_write_concern_error)\u001b[0m\n\u001b[1;32m    179\u001b[0m         \u001b[0;32mraise\u001b[0m \u001b[0mCursorNotFound\u001b[0m\u001b[0;34m(\u001b[0m\u001b[0merrmsg\u001b[0m\u001b[0;34m,\u001b[0m \u001b[0mcode\u001b[0m\u001b[0;34m,\u001b[0m \u001b[0mresponse\u001b[0m\u001b[0;34m,\u001b[0m \u001b[0mmax_wire_version\u001b[0m\u001b[0;34m)\u001b[0m\u001b[0;34m\u001b[0m\u001b[0;34m\u001b[0m\u001b[0m\n\u001b[1;32m    180\u001b[0m \u001b[0;34m\u001b[0m\u001b[0m\n\u001b[0;32m--> 181\u001b[0;31m     \u001b[0;32mraise\u001b[0m \u001b[0mOperationFailure\u001b[0m\u001b[0;34m(\u001b[0m\u001b[0merrmsg\u001b[0m\u001b[0;34m,\u001b[0m \u001b[0mcode\u001b[0m\u001b[0;34m,\u001b[0m \u001b[0mresponse\u001b[0m\u001b[0;34m,\u001b[0m \u001b[0mmax_wire_version\u001b[0m\u001b[0;34m)\u001b[0m\u001b[0;34m\u001b[0m\u001b[0;34m\u001b[0m\u001b[0m\n\u001b[0m\u001b[1;32m    182\u001b[0m \u001b[0;34m\u001b[0m\u001b[0m\n\u001b[1;32m    183\u001b[0m \u001b[0;34m\u001b[0m\u001b[0m\n",
            "\u001b[0;31mOperationFailure\u001b[0m: you are over your space quota, using 526 MB of 512 MB, full error: {'ok': 0, 'errmsg': 'you are over your space quota, using 526 MB of 512 MB', 'code': 8000, 'codeName': 'AtlasError'}"
          ]
        }
      ]
    },
    {
      "cell_type": "markdown",
      "source": [
        "# *How I tried to adapt it to procedural programing at first*"
      ],
      "metadata": {
        "id": "PDW33EZu4YlT"
      }
    },
    {
      "cell_type": "code",
      "source": [
        "df_trat = {}\n",
        "def main():\n",
        "  '''executa funções e upper_functions'''\n",
        "  linhas = 40000\n",
        "  number = 1\n",
        "  doc_count = 0\n",
        "  counter =  40000\n",
        "  flow = 1\n",
        "  for j in listaDepaths:\n",
        "    df_trat = set_dataframe(j)\n",
        "    flow += 1\n",
        "    df_trat_n = check_count(df_trat,doc_count,counter,number)\n",
        "    df_trat_n\n",
        "def set_dataframe(path):\n",
        "  #usar multthread pra rodar função de sentenciamento de dataframes e função de carregamento para \n",
        "  #mongoDB em intrevalos intercalados.\n",
        "    df_trat_ = pd.read_csv(path, sep = ';')\n",
        "    return df_trat_\n",
        "def check_count(df_trat,doc_count,counter,number):\n",
        "  def get_dataframe(df_dict, index):\n",
        "    df_list = list(df_dict.values())\n",
        "    return df_list[index]\n",
        "  local_dict = {}\n",
        "  if doc_count >= 40000:\n",
        "        print('check2')\n",
        "        counter += 40000 \n",
        "        number += 1\n",
        "        exec('df_trat_p'+str(number)+ ' = ' + 'df_trat'+\"[\"+str(counter-40000)+':'+str(counter)+\"]\",{},local_dict)\n",
        "  else:\n",
        "        exec('df_trat_'+str(number)+ ' = ' + 'df_trat'+\"[\"+str(counter)+':'+str(counter+40000)+\"]\",{},local_dict) \n",
        "  return get_dataframe(local_dict, 0)\n",
        "def toDict(df_trat_,number):\n",
        "  exec('df_trat_'+str(number)+'dict'+ ' = ' + 'df_trat_p'+str(number)+\".to_dict('records')\")\n",
        "def criaColecao():\n",
        "  #Cria-se coleção na DB Caged\n",
        "  exec(\"colecao_\" + str(counter) + \" = \" + \"client['Caged\"+str(flow)+\"']\"+\"['caged_tratado_p\"+str(number)+\"']\")\n",
        "  print('check3')\n",
        "def insert():\n",
        "  #insere linhas(arbitrariamente, 40000 no exemplo inicial) como documentos na coleção  \n",
        "  exec(\"colecao_\" + str(counter)+\".insert_many(df_trat_\" + str(number) + \"dict)\")\n",
        "def counting():\n",
        "  exec('doc_count'+ \"=\" + \"colecao_\" + str(counter)+'.count_documents({})')\n",
        "  print(doc_count)\n",
        "if __name__ == '__main__':\n",
        "    main()"
      ],
      "metadata": {
        "id": "6mFkfVgQMRgt"
      },
      "execution_count": null,
      "outputs": []
    },
    {
      "cell_type": "code",
      "source": [
        "df_trat_p"
      ],
      "metadata": {
        "colab": {
          "base_uri": "https://localhost:8080/",
          "height": 171
        },
        "id": "yWWhjMSlbddq",
        "outputId": "da019f52-7a78-420a-a523-8d7841595f71"
      },
      "execution_count": 68,
      "outputs": [
        {
          "output_type": "error",
          "ename": "NameError",
          "evalue": "ignored",
          "traceback": [
            "\u001b[0;31m---------------------------------------------------------------------------\u001b[0m",
            "\u001b[0;31mNameError\u001b[0m                                 Traceback (most recent call last)",
            "\u001b[0;32m<ipython-input-68-00e2b1b2dcc9>\u001b[0m in \u001b[0;36m<module>\u001b[0;34m\u001b[0m\n\u001b[0;32m----> 1\u001b[0;31m \u001b[0mdf_trat_p\u001b[0m\u001b[0;34m\u001b[0m\u001b[0;34m\u001b[0m\u001b[0m\n\u001b[0m",
            "\u001b[0;31mNameError\u001b[0m: name 'df_trat_p' is not defined"
          ]
        }
      ]
    },
    {
      "cell_type": "code",
      "source": [
        "def main():\n",
        "    listaDepaths = ['A', 'B', 'N', 'M', 'H']\n",
        "    df_trat_ = primeiro(listaDepaths)\n",
        "    print(df_trat_)\n",
        "    d = listaDepaths[0]+listaDepaths[1]+listaDepaths[2]\n",
        "    \n",
        "\n",
        "def primeiro(listaDepaths):\n",
        "    exec('def set_dataframe(listaDepaths):\\n'\n",
        "         + '    df = listaDepaths[0]+listaDepaths[1]+listaDepaths[2]\\n'\n",
        "         + '    return df')\n",
        "    yield set_dataframe(listaDepaths)\n",
        "\n",
        "if __name__ == '__main__':\n",
        "    main()"
      ],
      "metadata": {
        "colab": {
          "base_uri": "https://localhost:8080/"
        },
        "id": "-GZjRTWn0gM-",
        "outputId": "25e10c1f-60cc-4b57-9a61-e07935c3ce67"
      },
      "execution_count": null,
      "outputs": [
        {
          "output_type": "stream",
          "name": "stdout",
          "text": [
            "<generator object primeiro at 0x7fc972ed4ba0>\n",
            "ABN\n"
          ]
        }
      ]
    },
    {
      "cell_type": "code",
      "source": [],
      "metadata": {
        "id": "5Hx4yTJEbZ_B"
      },
      "execution_count": null,
      "outputs": []
    },
    {
      "cell_type": "code",
      "source": [
        "def main():\n",
        "    listaDepaths = ['A', 'B', 'N', 'M', 'H']\n",
        "    df_trat_ = primeiro(listaDepaths)\n",
        "    print(df_trat_)\n",
        "    d = listaDepaths[0]+listaDepaths[1]+listaDepaths[2]\n",
        "    print(d)\n",
        "\n",
        "def primeiro(listaDepaths):\n",
        "    exec('def set_dataframe(listaDepaths):\\n'\n",
        "         + '    df = listaDepaths[0]+listaDepaths[1]+listaDepaths[2]\\n'\n",
        "         + '    return df')\n",
        "    return set_dataframe(listaDepaths)\n",
        "\n",
        "if __name__ == '__main__':\n",
        "    main()"
      ],
      "metadata": {
        "id": "zasWf8_TMKwS",
        "colab": {
          "base_uri": "https://localhost:8080/",
          "height": 323
        },
        "outputId": "a1d6f1b2-0ea4-4036-a85f-bbd1fb5abc13"
      },
      "execution_count": null,
      "outputs": [
        {
          "output_type": "error",
          "ename": "SyntaxError",
          "evalue": "ignored",
          "traceback": [
            "Traceback \u001b[0;36m(most recent call last)\u001b[0m:\n",
            "  File \u001b[1;32m\"/usr/local/lib/python3.8/dist-packages/IPython/core/interactiveshell.py\"\u001b[0m, line \u001b[1;32m3326\u001b[0m, in \u001b[1;35mrun_code\u001b[0m\n    exec(code_obj, self.user_global_ns, self.user_ns)\n",
            "  File \u001b[1;32m\"<ipython-input-34-0572c279a604>\"\u001b[0m, line \u001b[1;32m15\u001b[0m, in \u001b[1;35m<module>\u001b[0m\n    main()\n",
            "  File \u001b[1;32m\"<ipython-input-34-0572c279a604>\"\u001b[0m, line \u001b[1;32m3\u001b[0m, in \u001b[1;35mmain\u001b[0m\n    df_trat_ = primeiro(listaDepaths)\n",
            "  File \u001b[1;32m\"<ipython-input-34-0572c279a604>\"\u001b[0m, line \u001b[1;32m12\u001b[0m, in \u001b[1;35mprimeiro\u001b[0m\n    return set_dataframe(listaDepaths)\n",
            "\u001b[0;36m  File \u001b[0;32m\"<ipython-input-4-122f91ce8ab2>\"\u001b[0;36m, line \u001b[0;32m9\u001b[0;36m, in \u001b[0;35mset_dataframe\u001b[0;36m\u001b[0m\n\u001b[0;31m    exec('return '+' df')\u001b[0m\n",
            "\u001b[0;36m  File \u001b[0;32m\"<string>\"\u001b[0;36m, line \u001b[0;32m1\u001b[0m\n\u001b[0;31mSyntaxError\u001b[0m\u001b[0;31m:\u001b[0m 'return' outside function\n"
          ]
        }
      ]
    },
    {
      "cell_type": "code",
      "source": [],
      "metadata": {
        "id": "6YSmbO9D3Y5r"
      },
      "execution_count": null,
      "outputs": []
    }
  ]
}